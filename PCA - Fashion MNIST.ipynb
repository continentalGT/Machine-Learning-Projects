{
 "cells": [
  {
   "cell_type": "markdown",
   "id": "71411d77",
   "metadata": {
    "papermill": {
     "duration": 0.020525,
     "end_time": "2023-01-24T06:02:56.745641",
     "exception": false,
     "start_time": "2023-01-24T06:02:56.725116",
     "status": "completed"
    },
    "tags": []
   },
   "source": [
    "# 1.Problem Statement"
   ]
  },
  {
   "cell_type": "markdown",
   "id": "365f1313",
   "metadata": {
    "papermill": {
     "duration": 0.017701,
     "end_time": "2023-01-24T06:02:56.781592",
     "exception": false,
     "start_time": "2023-01-24T06:02:56.763891",
     "status": "completed"
    },
    "tags": []
   },
   "source": [
    "An MNIST-like dataset of 70,000(60k train and 10k test) 28x28 labeled fashion images."
   ]
  },
  {
   "cell_type": "markdown",
   "id": "7f6fcb87",
   "metadata": {
    "papermill": {
     "duration": 0.016871,
     "end_time": "2023-01-24T06:02:56.815714",
     "exception": false,
     "start_time": "2023-01-24T06:02:56.798843",
     "status": "completed"
    },
    "tags": []
   },
   "source": [
    "Each image is 28 pixels in height and 28 pixels in width, for a total of 784 pixels in total. Each pixel has a single pixel-value associated with it, indicating the lightness or darkness of that pixel, with higher numbers meaning darker. This pixel-value is an integer between 0 and 255. The training and test data sets have 785 columns. The first column consists of the class labels (see above), and represents the article of clothing. The rest of the columns contain the pixel-values of the associated image."
   ]
  },
  {
   "cell_type": "markdown",
   "id": "f03cf023",
   "metadata": {
    "papermill": {
     "duration": 0.01684,
     "end_time": "2023-01-24T06:02:56.850091",
     "exception": false,
     "start_time": "2023-01-24T06:02:56.833251",
     "status": "completed"
    },
    "tags": []
   },
   "source": [
    "Labels\n",
    "\n",
    "Each training and test example is assigned to one of the following labels:\n",
    "\n",
    "0 T-shirt/top\n",
    "1 Trouser\n",
    "2 Pullover\n",
    "3 Dress\n",
    "4 Coat\n",
    "5 Sandal\n",
    "6 Shirt\n",
    "7 Sneaker\n",
    "8 Bag\n",
    "9 Ankle boot"
   ]
  },
  {
   "cell_type": "markdown",
   "id": "ab9ab897",
   "metadata": {
    "papermill": {
     "duration": 0.017624,
     "end_time": "2023-01-24T06:02:56.885355",
     "exception": false,
     "start_time": "2023-01-24T06:02:56.867731",
     "status": "completed"
    },
    "tags": []
   },
   "source": []
  },
  {
   "cell_type": "code",
   "execution_count": null,
   "id": "23ab4a96",
   "metadata": {
    "papermill": {
     "duration": 0.016908,
     "end_time": "2023-01-24T06:02:56.920146",
     "exception": false,
     "start_time": "2023-01-24T06:02:56.903238",
     "status": "completed"
    },
    "tags": []
   },
   "outputs": [],
   "source": []
  },
  {
   "cell_type": "markdown",
   "id": "e797cb71",
   "metadata": {
    "papermill": {
     "duration": 0.017091,
     "end_time": "2023-01-24T06:02:56.954937",
     "exception": false,
     "start_time": "2023-01-24T06:02:56.937846",
     "status": "completed"
    },
    "tags": []
   },
   "source": [
    "# 2.IMPORTING LIBRARIES AND DATASET"
   ]
  },
  {
   "cell_type": "code",
   "execution_count": 1,
   "id": "13c674df",
   "metadata": {
    "_cell_guid": "b1076dfc-b9ad-4769-8c92-a6c4dae69d19",
    "_uuid": "8f2839f25d086af736a60e9eeb907d3b93b6e0e5",
    "execution": {
     "iopub.execute_input": "2023-01-24T06:02:56.994050Z",
     "iopub.status.busy": "2023-01-24T06:02:56.993314Z",
     "iopub.status.idle": "2023-01-24T06:02:57.017520Z",
     "shell.execute_reply": "2023-01-24T06:02:57.016164Z"
    },
    "papermill": {
     "duration": 0.047423,
     "end_time": "2023-01-24T06:02:57.020857",
     "exception": false,
     "start_time": "2023-01-24T06:02:56.973434",
     "status": "completed"
    },
    "tags": []
   },
   "outputs": [
    {
     "name": "stdout",
     "output_type": "stream",
     "text": [
      "/kaggle/input/fashionmnist/t10k-labels-idx1-ubyte\n",
      "/kaggle/input/fashionmnist/t10k-images-idx3-ubyte\n",
      "/kaggle/input/fashionmnist/fashion-mnist_test.csv\n",
      "/kaggle/input/fashionmnist/fashion-mnist_train.csv\n",
      "/kaggle/input/fashionmnist/train-labels-idx1-ubyte\n",
      "/kaggle/input/fashionmnist/train-images-idx3-ubyte\n"
     ]
    }
   ],
   "source": [
    "# This Python 3 environment comes with many helpful analytics libraries installed\n",
    "# It is defined by the kaggle/python Docker image: https://github.com/kaggle/docker-python\n",
    "# For example, here's several helpful packages to load\n",
    "\n",
    "import numpy as np # linear algebra\n",
    "import pandas as pd # data processing, CSV file I/O (e.g. pd.read_csv)\n",
    "\n",
    "# Input data files are available in the read-only \"../input/\" directory\n",
    "# For example, running this (by clicking run or pressing Shift+Enter) will list all files under the input directory\n",
    "\n",
    "import os\n",
    "for dirname, _, filenames in os.walk('/kaggle/input'):\n",
    "    for filename in filenames:\n",
    "        print(os.path.join(dirname, filename))\n",
    "\n",
    "# You can write up to 20GB to the current directory (/kaggle/working/) that gets preserved as output when you create a version using \"Save & Run All\" \n",
    "# You can also write temporary files to /kaggle/temp/, but they won't be saved outside of the current session"
   ]
  },
  {
   "cell_type": "code",
   "execution_count": 2,
   "id": "4dd99c13",
   "metadata": {
    "execution": {
     "iopub.execute_input": "2023-01-24T06:02:57.060008Z",
     "iopub.status.busy": "2023-01-24T06:02:57.059539Z",
     "iopub.status.idle": "2023-01-24T06:02:58.165080Z",
     "shell.execute_reply": "2023-01-24T06:02:58.163817Z"
    },
    "papermill": {
     "duration": 1.128882,
     "end_time": "2023-01-24T06:02:58.168526",
     "exception": false,
     "start_time": "2023-01-24T06:02:57.039644",
     "status": "completed"
    },
    "tags": []
   },
   "outputs": [],
   "source": [
    "import seaborn as sns\n",
    "import matplotlib.pyplot as plt"
   ]
  },
  {
   "cell_type": "code",
   "execution_count": 3,
   "id": "f7f74e14",
   "metadata": {
    "execution": {
     "iopub.execute_input": "2023-01-24T06:02:58.206205Z",
     "iopub.status.busy": "2023-01-24T06:02:58.205793Z",
     "iopub.status.idle": "2023-01-24T06:03:05.008239Z",
     "shell.execute_reply": "2023-01-24T06:03:05.006779Z"
    },
    "papermill": {
     "duration": 6.825116,
     "end_time": "2023-01-24T06:03:05.011512",
     "exception": false,
     "start_time": "2023-01-24T06:02:58.186396",
     "status": "completed"
    },
    "tags": []
   },
   "outputs": [
    {
     "data": {
      "text/html": [
       "<div>\n",
       "<style scoped>\n",
       "    .dataframe tbody tr th:only-of-type {\n",
       "        vertical-align: middle;\n",
       "    }\n",
       "\n",
       "    .dataframe tbody tr th {\n",
       "        vertical-align: top;\n",
       "    }\n",
       "\n",
       "    .dataframe thead th {\n",
       "        text-align: right;\n",
       "    }\n",
       "</style>\n",
       "<table border=\"1\" class=\"dataframe\">\n",
       "  <thead>\n",
       "    <tr style=\"text-align: right;\">\n",
       "      <th></th>\n",
       "      <th>label</th>\n",
       "      <th>pixel1</th>\n",
       "      <th>pixel2</th>\n",
       "      <th>pixel3</th>\n",
       "      <th>pixel4</th>\n",
       "      <th>pixel5</th>\n",
       "      <th>pixel6</th>\n",
       "      <th>pixel7</th>\n",
       "      <th>pixel8</th>\n",
       "      <th>pixel9</th>\n",
       "      <th>...</th>\n",
       "      <th>pixel775</th>\n",
       "      <th>pixel776</th>\n",
       "      <th>pixel777</th>\n",
       "      <th>pixel778</th>\n",
       "      <th>pixel779</th>\n",
       "      <th>pixel780</th>\n",
       "      <th>pixel781</th>\n",
       "      <th>pixel782</th>\n",
       "      <th>pixel783</th>\n",
       "      <th>pixel784</th>\n",
       "    </tr>\n",
       "  </thead>\n",
       "  <tbody>\n",
       "    <tr>\n",
       "      <th>0</th>\n",
       "      <td>2</td>\n",
       "      <td>0</td>\n",
       "      <td>0</td>\n",
       "      <td>0</td>\n",
       "      <td>0</td>\n",
       "      <td>0</td>\n",
       "      <td>0</td>\n",
       "      <td>0</td>\n",
       "      <td>0</td>\n",
       "      <td>0</td>\n",
       "      <td>...</td>\n",
       "      <td>0</td>\n",
       "      <td>0</td>\n",
       "      <td>0</td>\n",
       "      <td>0</td>\n",
       "      <td>0</td>\n",
       "      <td>0</td>\n",
       "      <td>0</td>\n",
       "      <td>0</td>\n",
       "      <td>0</td>\n",
       "      <td>0</td>\n",
       "    </tr>\n",
       "    <tr>\n",
       "      <th>1</th>\n",
       "      <td>9</td>\n",
       "      <td>0</td>\n",
       "      <td>0</td>\n",
       "      <td>0</td>\n",
       "      <td>0</td>\n",
       "      <td>0</td>\n",
       "      <td>0</td>\n",
       "      <td>0</td>\n",
       "      <td>0</td>\n",
       "      <td>0</td>\n",
       "      <td>...</td>\n",
       "      <td>0</td>\n",
       "      <td>0</td>\n",
       "      <td>0</td>\n",
       "      <td>0</td>\n",
       "      <td>0</td>\n",
       "      <td>0</td>\n",
       "      <td>0</td>\n",
       "      <td>0</td>\n",
       "      <td>0</td>\n",
       "      <td>0</td>\n",
       "    </tr>\n",
       "    <tr>\n",
       "      <th>2</th>\n",
       "      <td>6</td>\n",
       "      <td>0</td>\n",
       "      <td>0</td>\n",
       "      <td>0</td>\n",
       "      <td>0</td>\n",
       "      <td>0</td>\n",
       "      <td>0</td>\n",
       "      <td>0</td>\n",
       "      <td>5</td>\n",
       "      <td>0</td>\n",
       "      <td>...</td>\n",
       "      <td>0</td>\n",
       "      <td>0</td>\n",
       "      <td>0</td>\n",
       "      <td>30</td>\n",
       "      <td>43</td>\n",
       "      <td>0</td>\n",
       "      <td>0</td>\n",
       "      <td>0</td>\n",
       "      <td>0</td>\n",
       "      <td>0</td>\n",
       "    </tr>\n",
       "    <tr>\n",
       "      <th>3</th>\n",
       "      <td>0</td>\n",
       "      <td>0</td>\n",
       "      <td>0</td>\n",
       "      <td>0</td>\n",
       "      <td>1</td>\n",
       "      <td>2</td>\n",
       "      <td>0</td>\n",
       "      <td>0</td>\n",
       "      <td>0</td>\n",
       "      <td>0</td>\n",
       "      <td>...</td>\n",
       "      <td>3</td>\n",
       "      <td>0</td>\n",
       "      <td>0</td>\n",
       "      <td>0</td>\n",
       "      <td>0</td>\n",
       "      <td>1</td>\n",
       "      <td>0</td>\n",
       "      <td>0</td>\n",
       "      <td>0</td>\n",
       "      <td>0</td>\n",
       "    </tr>\n",
       "    <tr>\n",
       "      <th>4</th>\n",
       "      <td>3</td>\n",
       "      <td>0</td>\n",
       "      <td>0</td>\n",
       "      <td>0</td>\n",
       "      <td>0</td>\n",
       "      <td>0</td>\n",
       "      <td>0</td>\n",
       "      <td>0</td>\n",
       "      <td>0</td>\n",
       "      <td>0</td>\n",
       "      <td>...</td>\n",
       "      <td>0</td>\n",
       "      <td>0</td>\n",
       "      <td>0</td>\n",
       "      <td>0</td>\n",
       "      <td>0</td>\n",
       "      <td>0</td>\n",
       "      <td>0</td>\n",
       "      <td>0</td>\n",
       "      <td>0</td>\n",
       "      <td>0</td>\n",
       "    </tr>\n",
       "    <tr>\n",
       "      <th>...</th>\n",
       "      <td>...</td>\n",
       "      <td>...</td>\n",
       "      <td>...</td>\n",
       "      <td>...</td>\n",
       "      <td>...</td>\n",
       "      <td>...</td>\n",
       "      <td>...</td>\n",
       "      <td>...</td>\n",
       "      <td>...</td>\n",
       "      <td>...</td>\n",
       "      <td>...</td>\n",
       "      <td>...</td>\n",
       "      <td>...</td>\n",
       "      <td>...</td>\n",
       "      <td>...</td>\n",
       "      <td>...</td>\n",
       "      <td>...</td>\n",
       "      <td>...</td>\n",
       "      <td>...</td>\n",
       "      <td>...</td>\n",
       "      <td>...</td>\n",
       "    </tr>\n",
       "    <tr>\n",
       "      <th>59995</th>\n",
       "      <td>9</td>\n",
       "      <td>0</td>\n",
       "      <td>0</td>\n",
       "      <td>0</td>\n",
       "      <td>0</td>\n",
       "      <td>0</td>\n",
       "      <td>0</td>\n",
       "      <td>0</td>\n",
       "      <td>0</td>\n",
       "      <td>0</td>\n",
       "      <td>...</td>\n",
       "      <td>0</td>\n",
       "      <td>0</td>\n",
       "      <td>0</td>\n",
       "      <td>0</td>\n",
       "      <td>0</td>\n",
       "      <td>0</td>\n",
       "      <td>0</td>\n",
       "      <td>0</td>\n",
       "      <td>0</td>\n",
       "      <td>0</td>\n",
       "    </tr>\n",
       "    <tr>\n",
       "      <th>59996</th>\n",
       "      <td>1</td>\n",
       "      <td>0</td>\n",
       "      <td>0</td>\n",
       "      <td>0</td>\n",
       "      <td>0</td>\n",
       "      <td>0</td>\n",
       "      <td>0</td>\n",
       "      <td>0</td>\n",
       "      <td>0</td>\n",
       "      <td>0</td>\n",
       "      <td>...</td>\n",
       "      <td>73</td>\n",
       "      <td>0</td>\n",
       "      <td>0</td>\n",
       "      <td>0</td>\n",
       "      <td>0</td>\n",
       "      <td>0</td>\n",
       "      <td>0</td>\n",
       "      <td>0</td>\n",
       "      <td>0</td>\n",
       "      <td>0</td>\n",
       "    </tr>\n",
       "    <tr>\n",
       "      <th>59997</th>\n",
       "      <td>8</td>\n",
       "      <td>0</td>\n",
       "      <td>0</td>\n",
       "      <td>0</td>\n",
       "      <td>0</td>\n",
       "      <td>0</td>\n",
       "      <td>0</td>\n",
       "      <td>0</td>\n",
       "      <td>0</td>\n",
       "      <td>0</td>\n",
       "      <td>...</td>\n",
       "      <td>160</td>\n",
       "      <td>162</td>\n",
       "      <td>163</td>\n",
       "      <td>135</td>\n",
       "      <td>94</td>\n",
       "      <td>0</td>\n",
       "      <td>0</td>\n",
       "      <td>0</td>\n",
       "      <td>0</td>\n",
       "      <td>0</td>\n",
       "    </tr>\n",
       "    <tr>\n",
       "      <th>59998</th>\n",
       "      <td>8</td>\n",
       "      <td>0</td>\n",
       "      <td>0</td>\n",
       "      <td>0</td>\n",
       "      <td>0</td>\n",
       "      <td>0</td>\n",
       "      <td>0</td>\n",
       "      <td>0</td>\n",
       "      <td>0</td>\n",
       "      <td>0</td>\n",
       "      <td>...</td>\n",
       "      <td>0</td>\n",
       "      <td>0</td>\n",
       "      <td>0</td>\n",
       "      <td>0</td>\n",
       "      <td>0</td>\n",
       "      <td>0</td>\n",
       "      <td>0</td>\n",
       "      <td>0</td>\n",
       "      <td>0</td>\n",
       "      <td>0</td>\n",
       "    </tr>\n",
       "    <tr>\n",
       "      <th>59999</th>\n",
       "      <td>7</td>\n",
       "      <td>0</td>\n",
       "      <td>0</td>\n",
       "      <td>0</td>\n",
       "      <td>0</td>\n",
       "      <td>0</td>\n",
       "      <td>0</td>\n",
       "      <td>0</td>\n",
       "      <td>0</td>\n",
       "      <td>0</td>\n",
       "      <td>...</td>\n",
       "      <td>0</td>\n",
       "      <td>0</td>\n",
       "      <td>0</td>\n",
       "      <td>0</td>\n",
       "      <td>0</td>\n",
       "      <td>0</td>\n",
       "      <td>0</td>\n",
       "      <td>0</td>\n",
       "      <td>0</td>\n",
       "      <td>0</td>\n",
       "    </tr>\n",
       "  </tbody>\n",
       "</table>\n",
       "<p>60000 rows × 785 columns</p>\n",
       "</div>"
      ],
      "text/plain": [
       "       label  pixel1  pixel2  pixel3  pixel4  pixel5  pixel6  pixel7  pixel8  \\\n",
       "0          2       0       0       0       0       0       0       0       0   \n",
       "1          9       0       0       0       0       0       0       0       0   \n",
       "2          6       0       0       0       0       0       0       0       5   \n",
       "3          0       0       0       0       1       2       0       0       0   \n",
       "4          3       0       0       0       0       0       0       0       0   \n",
       "...      ...     ...     ...     ...     ...     ...     ...     ...     ...   \n",
       "59995      9       0       0       0       0       0       0       0       0   \n",
       "59996      1       0       0       0       0       0       0       0       0   \n",
       "59997      8       0       0       0       0       0       0       0       0   \n",
       "59998      8       0       0       0       0       0       0       0       0   \n",
       "59999      7       0       0       0       0       0       0       0       0   \n",
       "\n",
       "       pixel9  ...  pixel775  pixel776  pixel777  pixel778  pixel779  \\\n",
       "0           0  ...         0         0         0         0         0   \n",
       "1           0  ...         0         0         0         0         0   \n",
       "2           0  ...         0         0         0        30        43   \n",
       "3           0  ...         3         0         0         0         0   \n",
       "4           0  ...         0         0         0         0         0   \n",
       "...       ...  ...       ...       ...       ...       ...       ...   \n",
       "59995       0  ...         0         0         0         0         0   \n",
       "59996       0  ...        73         0         0         0         0   \n",
       "59997       0  ...       160       162       163       135        94   \n",
       "59998       0  ...         0         0         0         0         0   \n",
       "59999       0  ...         0         0         0         0         0   \n",
       "\n",
       "       pixel780  pixel781  pixel782  pixel783  pixel784  \n",
       "0             0         0         0         0         0  \n",
       "1             0         0         0         0         0  \n",
       "2             0         0         0         0         0  \n",
       "3             1         0         0         0         0  \n",
       "4             0         0         0         0         0  \n",
       "...         ...       ...       ...       ...       ...  \n",
       "59995         0         0         0         0         0  \n",
       "59996         0         0         0         0         0  \n",
       "59997         0         0         0         0         0  \n",
       "59998         0         0         0         0         0  \n",
       "59999         0         0         0         0         0  \n",
       "\n",
       "[60000 rows x 785 columns]"
      ]
     },
     "execution_count": 3,
     "metadata": {},
     "output_type": "execute_result"
    }
   ],
   "source": [
    "df=pd.read_csv(r'/kaggle/input/fashionmnist/fashion-mnist_train.csv')\n",
    "df"
   ]
  },
  {
   "cell_type": "markdown",
   "id": "b06c3f9f",
   "metadata": {
    "papermill": {
     "duration": 0.018742,
     "end_time": "2023-01-24T06:03:05.049699",
     "exception": false,
     "start_time": "2023-01-24T06:03:05.030957",
     "status": "completed"
    },
    "tags": []
   },
   "source": [
    "60k Rows and 784 Pixel columns with 1 label column"
   ]
  },
  {
   "cell_type": "code",
   "execution_count": 4,
   "id": "e414f2ff",
   "metadata": {
    "execution": {
     "iopub.execute_input": "2023-01-24T06:03:05.090560Z",
     "iopub.status.busy": "2023-01-24T06:03:05.090100Z",
     "iopub.status.idle": "2023-01-24T06:03:05.098865Z",
     "shell.execute_reply": "2023-01-24T06:03:05.097365Z"
    },
    "papermill": {
     "duration": 0.032238,
     "end_time": "2023-01-24T06:03:05.101926",
     "exception": false,
     "start_time": "2023-01-24T06:03:05.069688",
     "status": "completed"
    },
    "tags": []
   },
   "outputs": [
    {
     "data": {
      "text/plain": [
       "(60000, 785)"
      ]
     },
     "execution_count": 4,
     "metadata": {},
     "output_type": "execute_result"
    }
   ],
   "source": [
    "df.shape"
   ]
  },
  {
   "cell_type": "markdown",
   "id": "d15bfd87",
   "metadata": {
    "papermill": {
     "duration": 0.019027,
     "end_time": "2023-01-24T06:03:05.145699",
     "exception": false,
     "start_time": "2023-01-24T06:03:05.126672",
     "status": "completed"
    },
    "tags": []
   },
   "source": [
    "Visualising How data looks like"
   ]
  },
  {
   "cell_type": "code",
   "execution_count": 5,
   "id": "e2b748e5",
   "metadata": {
    "execution": {
     "iopub.execute_input": "2023-01-24T06:03:05.185802Z",
     "iopub.status.busy": "2023-01-24T06:03:05.185329Z",
     "iopub.status.idle": "2023-01-24T06:03:05.208883Z",
     "shell.execute_reply": "2023-01-24T06:03:05.207741Z"
    },
    "papermill": {
     "duration": 0.047674,
     "end_time": "2023-01-24T06:03:05.211726",
     "exception": false,
     "start_time": "2023-01-24T06:03:05.164052",
     "status": "completed"
    },
    "tags": []
   },
   "outputs": [
    {
     "data": {
      "text/html": [
       "<div>\n",
       "<style scoped>\n",
       "    .dataframe tbody tr th:only-of-type {\n",
       "        vertical-align: middle;\n",
       "    }\n",
       "\n",
       "    .dataframe tbody tr th {\n",
       "        vertical-align: top;\n",
       "    }\n",
       "\n",
       "    .dataframe thead th {\n",
       "        text-align: right;\n",
       "    }\n",
       "</style>\n",
       "<table border=\"1\" class=\"dataframe\">\n",
       "  <thead>\n",
       "    <tr style=\"text-align: right;\">\n",
       "      <th></th>\n",
       "      <th>label</th>\n",
       "      <th>pixel1</th>\n",
       "      <th>pixel2</th>\n",
       "      <th>pixel3</th>\n",
       "      <th>pixel4</th>\n",
       "      <th>pixel5</th>\n",
       "      <th>pixel6</th>\n",
       "      <th>pixel7</th>\n",
       "      <th>pixel8</th>\n",
       "      <th>pixel9</th>\n",
       "      <th>...</th>\n",
       "      <th>pixel775</th>\n",
       "      <th>pixel776</th>\n",
       "      <th>pixel777</th>\n",
       "      <th>pixel778</th>\n",
       "      <th>pixel779</th>\n",
       "      <th>pixel780</th>\n",
       "      <th>pixel781</th>\n",
       "      <th>pixel782</th>\n",
       "      <th>pixel783</th>\n",
       "      <th>pixel784</th>\n",
       "    </tr>\n",
       "  </thead>\n",
       "  <tbody>\n",
       "    <tr>\n",
       "      <th>12579</th>\n",
       "      <td>0</td>\n",
       "      <td>0</td>\n",
       "      <td>0</td>\n",
       "      <td>0</td>\n",
       "      <td>0</td>\n",
       "      <td>0</td>\n",
       "      <td>0</td>\n",
       "      <td>0</td>\n",
       "      <td>0</td>\n",
       "      <td>0</td>\n",
       "      <td>...</td>\n",
       "      <td>0</td>\n",
       "      <td>0</td>\n",
       "      <td>0</td>\n",
       "      <td>0</td>\n",
       "      <td>0</td>\n",
       "      <td>0</td>\n",
       "      <td>0</td>\n",
       "      <td>0</td>\n",
       "      <td>0</td>\n",
       "      <td>0</td>\n",
       "    </tr>\n",
       "    <tr>\n",
       "      <th>18477</th>\n",
       "      <td>3</td>\n",
       "      <td>0</td>\n",
       "      <td>0</td>\n",
       "      <td>0</td>\n",
       "      <td>0</td>\n",
       "      <td>0</td>\n",
       "      <td>0</td>\n",
       "      <td>0</td>\n",
       "      <td>0</td>\n",
       "      <td>0</td>\n",
       "      <td>...</td>\n",
       "      <td>0</td>\n",
       "      <td>0</td>\n",
       "      <td>0</td>\n",
       "      <td>0</td>\n",
       "      <td>0</td>\n",
       "      <td>0</td>\n",
       "      <td>0</td>\n",
       "      <td>0</td>\n",
       "      <td>0</td>\n",
       "      <td>0</td>\n",
       "    </tr>\n",
       "  </tbody>\n",
       "</table>\n",
       "<p>2 rows × 785 columns</p>\n",
       "</div>"
      ],
      "text/plain": [
       "       label  pixel1  pixel2  pixel3  pixel4  pixel5  pixel6  pixel7  pixel8  \\\n",
       "12579      0       0       0       0       0       0       0       0       0   \n",
       "18477      3       0       0       0       0       0       0       0       0   \n",
       "\n",
       "       pixel9  ...  pixel775  pixel776  pixel777  pixel778  pixel779  \\\n",
       "12579       0  ...         0         0         0         0         0   \n",
       "18477       0  ...         0         0         0         0         0   \n",
       "\n",
       "       pixel780  pixel781  pixel782  pixel783  pixel784  \n",
       "12579         0         0         0         0         0  \n",
       "18477         0         0         0         0         0  \n",
       "\n",
       "[2 rows x 785 columns]"
      ]
     },
     "execution_count": 5,
     "metadata": {},
     "output_type": "execute_result"
    }
   ],
   "source": [
    "df.sample(2)"
   ]
  },
  {
   "cell_type": "code",
   "execution_count": 6,
   "id": "a3540529",
   "metadata": {
    "execution": {
     "iopub.execute_input": "2023-01-24T06:03:05.253340Z",
     "iopub.status.busy": "2023-01-24T06:03:05.252864Z",
     "iopub.status.idle": "2023-01-24T06:03:05.505785Z",
     "shell.execute_reply": "2023-01-24T06:03:05.504476Z"
    },
    "papermill": {
     "duration": 0.27643,
     "end_time": "2023-01-24T06:03:05.508507",
     "exception": false,
     "start_time": "2023-01-24T06:03:05.232077",
     "status": "completed"
    },
    "tags": []
   },
   "outputs": [
    {
     "data": {
      "text/plain": [
       "<matplotlib.image.AxesImage at 0x7f646b8f2a10>"
      ]
     },
     "execution_count": 6,
     "metadata": {},
     "output_type": "execute_result"
    },
    {
     "data": {
      "image/png": "[encoded data removed]",
      "text/plain": [
       "<Figure size 432x288 with 1 Axes>"
      ]
     },
     "metadata": {
      "needs_background": "light"
     },
     "output_type": "display_data"
    }
   ],
   "source": [
    "plt.imshow(df.iloc[14676,1:].values.reshape(-1,28))\n",
    "#Showing Shirt 0->t-shirt"
   ]
  },
  {
   "cell_type": "code",
   "execution_count": 7,
   "id": "4c3b1684",
   "metadata": {
    "execution": {
     "iopub.execute_input": "2023-01-24T06:03:05.547064Z",
     "iopub.status.busy": "2023-01-24T06:03:05.546562Z",
     "iopub.status.idle": "2023-01-24T06:03:05.777068Z",
     "shell.execute_reply": "2023-01-24T06:03:05.776101Z"
    },
    "papermill": {
     "duration": 0.253116,
     "end_time": "2023-01-24T06:03:05.779859",
     "exception": false,
     "start_time": "2023-01-24T06:03:05.526743",
     "status": "completed"
    },
    "tags": []
   },
   "outputs": [
    {
     "data": {
      "text/plain": [
       "<matplotlib.image.AxesImage at 0x7f64484eab90>"
      ]
     },
     "execution_count": 7,
     "metadata": {},
     "output_type": "execute_result"
    },
    {
     "data": {
      "image/png": "[encoded data removed]",
      "text/plain": [
       "<Figure size 432x288 with 1 Axes>"
      ]
     },
     "metadata": {
      "needs_background": "light"
     },
     "output_type": "display_data"
    }
   ],
   "source": [
    "plt.imshow(df.iloc[17699,1:].values.reshape(-1,28))\n",
    "#showing 5 as sandal"
   ]
  },
  {
   "cell_type": "markdown",
   "id": "f876f74b",
   "metadata": {
    "papermill": {
     "duration": 0.019535,
     "end_time": "2023-01-24T06:03:05.820030",
     "exception": false,
     "start_time": "2023-01-24T06:03:05.800495",
     "status": "completed"
    },
    "tags": []
   },
   "source": [
    "# "
   ]
  },
  {
   "cell_type": "markdown",
   "id": "3f411c18",
   "metadata": {
    "papermill": {
     "duration": 0.018575,
     "end_time": "2023-01-24T06:03:05.857961",
     "exception": false,
     "start_time": "2023-01-24T06:03:05.839386",
     "status": "completed"
    },
    "tags": []
   },
   "source": [
    "# DATA CLEANING"
   ]
  },
  {
   "cell_type": "code",
   "execution_count": 8,
   "id": "7741eb44",
   "metadata": {
    "execution": {
     "iopub.execute_input": "2023-01-24T06:03:05.898873Z",
     "iopub.status.busy": "2023-01-24T06:03:05.897600Z",
     "iopub.status.idle": "2023-01-24T06:03:07.184686Z",
     "shell.execute_reply": "2023-01-24T06:03:07.183236Z"
    },
    "papermill": {
     "duration": 1.310587,
     "end_time": "2023-01-24T06:03:07.187654",
     "exception": false,
     "start_time": "2023-01-24T06:03:05.877067",
     "status": "completed"
    },
    "tags": []
   },
   "outputs": [
    {
     "data": {
      "text/plain": [
       "43"
      ]
     },
     "execution_count": 8,
     "metadata": {},
     "output_type": "execute_result"
    }
   ],
   "source": [
    "#CHECKING FOR DUPLICACY\n",
    "df.duplicated().sum()"
   ]
  },
  {
   "cell_type": "markdown",
   "id": "d2c456fe",
   "metadata": {
    "papermill": {
     "duration": 0.020274,
     "end_time": "2023-01-24T06:03:07.227568",
     "exception": false,
     "start_time": "2023-01-24T06:03:07.207294",
     "status": "completed"
    },
    "tags": []
   },
   "source": [
    "43 Duplicates have been found.Lets check if similar labels are identical or not.lets say for label 6"
   ]
  },
  {
   "cell_type": "code",
   "execution_count": 9,
   "id": "68d4ec45",
   "metadata": {
    "execution": {
     "iopub.execute_input": "2023-01-24T06:03:07.274053Z",
     "iopub.status.busy": "2023-01-24T06:03:07.272493Z",
     "iopub.status.idle": "2023-01-24T06:03:07.377716Z",
     "shell.execute_reply": "2023-01-24T06:03:07.376186Z"
    },
    "papermill": {
     "duration": 0.131788,
     "end_time": "2023-01-24T06:03:07.382132",
     "exception": false,
     "start_time": "2023-01-24T06:03:07.250344",
     "status": "completed"
    },
    "tags": []
   },
   "outputs": [
    {
     "data": {
      "text/html": [
       "<div>\n",
       "<style scoped>\n",
       "    .dataframe tbody tr th:only-of-type {\n",
       "        vertical-align: middle;\n",
       "    }\n",
       "\n",
       "    .dataframe tbody tr th {\n",
       "        vertical-align: top;\n",
       "    }\n",
       "\n",
       "    .dataframe thead th {\n",
       "        text-align: right;\n",
       "    }\n",
       "</style>\n",
       "<table border=\"1\" class=\"dataframe\">\n",
       "  <thead>\n",
       "    <tr style=\"text-align: right;\">\n",
       "      <th></th>\n",
       "      <th>label</th>\n",
       "      <th>pixel1</th>\n",
       "      <th>pixel2</th>\n",
       "      <th>pixel3</th>\n",
       "      <th>pixel4</th>\n",
       "      <th>pixel5</th>\n",
       "      <th>pixel6</th>\n",
       "      <th>pixel7</th>\n",
       "      <th>pixel8</th>\n",
       "      <th>pixel9</th>\n",
       "      <th>...</th>\n",
       "      <th>pixel775</th>\n",
       "      <th>pixel776</th>\n",
       "      <th>pixel777</th>\n",
       "      <th>pixel778</th>\n",
       "      <th>pixel779</th>\n",
       "      <th>pixel780</th>\n",
       "      <th>pixel781</th>\n",
       "      <th>pixel782</th>\n",
       "      <th>pixel783</th>\n",
       "      <th>pixel784</th>\n",
       "    </tr>\n",
       "  </thead>\n",
       "  <tbody>\n",
       "    <tr>\n",
       "      <th>2</th>\n",
       "      <td>6</td>\n",
       "      <td>0</td>\n",
       "      <td>0</td>\n",
       "      <td>0</td>\n",
       "      <td>0</td>\n",
       "      <td>0</td>\n",
       "      <td>0</td>\n",
       "      <td>0</td>\n",
       "      <td>5</td>\n",
       "      <td>0</td>\n",
       "      <td>...</td>\n",
       "      <td>0</td>\n",
       "      <td>0</td>\n",
       "      <td>0</td>\n",
       "      <td>30</td>\n",
       "      <td>43</td>\n",
       "      <td>0</td>\n",
       "      <td>0</td>\n",
       "      <td>0</td>\n",
       "      <td>0</td>\n",
       "      <td>0</td>\n",
       "    </tr>\n",
       "    <tr>\n",
       "      <th>40</th>\n",
       "      <td>6</td>\n",
       "      <td>0</td>\n",
       "      <td>0</td>\n",
       "      <td>0</td>\n",
       "      <td>0</td>\n",
       "      <td>0</td>\n",
       "      <td>0</td>\n",
       "      <td>0</td>\n",
       "      <td>0</td>\n",
       "      <td>0</td>\n",
       "      <td>...</td>\n",
       "      <td>41</td>\n",
       "      <td>0</td>\n",
       "      <td>0</td>\n",
       "      <td>0</td>\n",
       "      <td>0</td>\n",
       "      <td>0</td>\n",
       "      <td>0</td>\n",
       "      <td>0</td>\n",
       "      <td>0</td>\n",
       "      <td>0</td>\n",
       "    </tr>\n",
       "    <tr>\n",
       "      <th>43</th>\n",
       "      <td>6</td>\n",
       "      <td>0</td>\n",
       "      <td>0</td>\n",
       "      <td>0</td>\n",
       "      <td>0</td>\n",
       "      <td>0</td>\n",
       "      <td>0</td>\n",
       "      <td>0</td>\n",
       "      <td>0</td>\n",
       "      <td>0</td>\n",
       "      <td>...</td>\n",
       "      <td>0</td>\n",
       "      <td>0</td>\n",
       "      <td>0</td>\n",
       "      <td>0</td>\n",
       "      <td>0</td>\n",
       "      <td>0</td>\n",
       "      <td>0</td>\n",
       "      <td>0</td>\n",
       "      <td>0</td>\n",
       "      <td>0</td>\n",
       "    </tr>\n",
       "    <tr>\n",
       "      <th>46</th>\n",
       "      <td>6</td>\n",
       "      <td>0</td>\n",
       "      <td>0</td>\n",
       "      <td>0</td>\n",
       "      <td>0</td>\n",
       "      <td>0</td>\n",
       "      <td>0</td>\n",
       "      <td>0</td>\n",
       "      <td>0</td>\n",
       "      <td>0</td>\n",
       "      <td>...</td>\n",
       "      <td>0</td>\n",
       "      <td>1</td>\n",
       "      <td>0</td>\n",
       "      <td>0</td>\n",
       "      <td>138</td>\n",
       "      <td>154</td>\n",
       "      <td>78</td>\n",
       "      <td>0</td>\n",
       "      <td>0</td>\n",
       "      <td>0</td>\n",
       "    </tr>\n",
       "    <tr>\n",
       "      <th>62</th>\n",
       "      <td>6</td>\n",
       "      <td>0</td>\n",
       "      <td>0</td>\n",
       "      <td>0</td>\n",
       "      <td>0</td>\n",
       "      <td>0</td>\n",
       "      <td>0</td>\n",
       "      <td>0</td>\n",
       "      <td>0</td>\n",
       "      <td>1</td>\n",
       "      <td>...</td>\n",
       "      <td>81</td>\n",
       "      <td>0</td>\n",
       "      <td>0</td>\n",
       "      <td>0</td>\n",
       "      <td>0</td>\n",
       "      <td>0</td>\n",
       "      <td>0</td>\n",
       "      <td>0</td>\n",
       "      <td>0</td>\n",
       "      <td>0</td>\n",
       "    </tr>\n",
       "  </tbody>\n",
       "</table>\n",
       "<p>5 rows × 785 columns</p>\n",
       "</div>"
      ],
      "text/plain": [
       "    label  pixel1  pixel2  pixel3  pixel4  pixel5  pixel6  pixel7  pixel8  \\\n",
       "2       6       0       0       0       0       0       0       0       5   \n",
       "40      6       0       0       0       0       0       0       0       0   \n",
       "43      6       0       0       0       0       0       0       0       0   \n",
       "46      6       0       0       0       0       0       0       0       0   \n",
       "62      6       0       0       0       0       0       0       0       0   \n",
       "\n",
       "    pixel9  ...  pixel775  pixel776  pixel777  pixel778  pixel779  pixel780  \\\n",
       "2        0  ...         0         0         0        30        43         0   \n",
       "40       0  ...        41         0         0         0         0         0   \n",
       "43       0  ...         0         0         0         0         0         0   \n",
       "46       0  ...         0         1         0         0       138       154   \n",
       "62       1  ...        81         0         0         0         0         0   \n",
       "\n",
       "    pixel781  pixel782  pixel783  pixel784  \n",
       "2          0         0         0         0  \n",
       "40         0         0         0         0  \n",
       "43         0         0         0         0  \n",
       "46        78         0         0         0  \n",
       "62         0         0         0         0  \n",
       "\n",
       "[5 rows x 785 columns]"
      ]
     },
     "execution_count": 9,
     "metadata": {},
     "output_type": "execute_result"
    }
   ],
   "source": [
    "df[df.label==6].head()"
   ]
  },
  {
   "cell_type": "code",
   "execution_count": 10,
   "id": "0292b0b0",
   "metadata": {
    "execution": {
     "iopub.execute_input": "2023-01-24T06:03:07.424473Z",
     "iopub.status.busy": "2023-01-24T06:03:07.423484Z",
     "iopub.status.idle": "2023-01-24T06:03:07.668088Z",
     "shell.execute_reply": "2023-01-24T06:03:07.666315Z"
    },
    "papermill": {
     "duration": 0.268524,
     "end_time": "2023-01-24T06:03:07.670845",
     "exception": false,
     "start_time": "2023-01-24T06:03:07.402321",
     "status": "completed"
    },
    "tags": []
   },
   "outputs": [
    {
     "data": {
      "text/plain": [
       "<matplotlib.image.AxesImage at 0x7f64483766d0>"
      ]
     },
     "execution_count": 10,
     "metadata": {},
     "output_type": "execute_result"
    },
    {
     "data": {
      "image/png": "[encoded data removed]",
      "text/plain": [
       "<Figure size 432x288 with 1 Axes>"
      ]
     },
     "metadata": {
      "needs_background": "light"
     },
     "output_type": "display_data"
    }
   ],
   "source": [
    "plt.imshow(df.iloc[2,1:].values.reshape(-1,28))"
   ]
  },
  {
   "cell_type": "code",
   "execution_count": 11,
   "id": "ad532cb2",
   "metadata": {
    "execution": {
     "iopub.execute_input": "2023-01-24T06:03:07.716160Z",
     "iopub.status.busy": "2023-01-24T06:03:07.715740Z",
     "iopub.status.idle": "2023-01-24T06:03:07.959425Z",
     "shell.execute_reply": "2023-01-24T06:03:07.957599Z"
    },
    "papermill": {
     "duration": 0.269992,
     "end_time": "2023-01-24T06:03:07.962581",
     "exception": false,
     "start_time": "2023-01-24T06:03:07.692589",
     "status": "completed"
    },
    "tags": []
   },
   "outputs": [
    {
     "data": {
      "text/plain": [
       "<matplotlib.image.AxesImage at 0x7f6448761c50>"
      ]
     },
     "execution_count": 11,
     "metadata": {},
     "output_type": "execute_result"
    },
    {
     "data": {
      "image/png": "[encoded data removed]",
      "text/plain": [
       "<Figure size 432x288 with 1 Axes>"
      ]
     },
     "metadata": {
      "needs_background": "light"
     },
     "output_type": "display_data"
    }
   ],
   "source": [
    "plt.imshow(df.iloc[40,1:].values.reshape(-1,28))"
   ]
  },
  {
   "cell_type": "markdown",
   "id": "c0e1401a",
   "metadata": {
    "papermill": {
     "duration": 0.020891,
     "end_time": "2023-01-24T06:03:08.005047",
     "exception": false,
     "start_time": "2023-01-24T06:03:07.984156",
     "status": "completed"
    },
    "tags": []
   },
   "source": [
    "Through above images we can conclude that with label 6 (shirt) images of row 2 and 40 are not identitical and have varied intensity"
   ]
  },
  {
   "cell_type": "code",
   "execution_count": 12,
   "id": "d2de24bf",
   "metadata": {
    "execution": {
     "iopub.execute_input": "2023-01-24T06:03:08.052342Z",
     "iopub.status.busy": "2023-01-24T06:03:08.049846Z",
     "iopub.status.idle": "2023-01-24T06:03:09.468716Z",
     "shell.execute_reply": "2023-01-24T06:03:09.467314Z"
    },
    "papermill": {
     "duration": 1.445965,
     "end_time": "2023-01-24T06:03:09.472461",
     "exception": false,
     "start_time": "2023-01-24T06:03:08.026496",
     "status": "completed"
    },
    "tags": []
   },
   "outputs": [],
   "source": [
    "#DROPPING DUPLICATES\n",
    "df.drop_duplicates(inplace=True)"
   ]
  },
  {
   "cell_type": "code",
   "execution_count": 13,
   "id": "86b4f943",
   "metadata": {
    "execution": {
     "iopub.execute_input": "2023-01-24T06:03:09.520564Z",
     "iopub.status.busy": "2023-01-24T06:03:09.519708Z",
     "iopub.status.idle": "2023-01-24T06:03:09.573682Z",
     "shell.execute_reply": "2023-01-24T06:03:09.572277Z"
    },
    "papermill": {
     "duration": 0.082552,
     "end_time": "2023-01-24T06:03:09.577234",
     "exception": false,
     "start_time": "2023-01-24T06:03:09.494682",
     "status": "completed"
    },
    "tags": []
   },
   "outputs": [
    {
     "name": "stdout",
     "output_type": "stream",
     "text": [
      "<class 'pandas.core.frame.DataFrame'>\n",
      "Int64Index: 59957 entries, 0 to 59999\n",
      "Columns: 785 entries, label to pixel784\n",
      "dtypes: int64(785)\n",
      "memory usage: 359.5 MB\n"
     ]
    }
   ],
   "source": [
    "#checking format\n",
    "df.info()"
   ]
  },
  {
   "cell_type": "code",
   "execution_count": 14,
   "id": "56dbf073",
   "metadata": {
    "execution": {
     "iopub.execute_input": "2023-01-24T06:03:09.623550Z",
     "iopub.status.busy": "2023-01-24T06:03:09.622893Z",
     "iopub.status.idle": "2023-01-24T06:03:09.631631Z",
     "shell.execute_reply": "2023-01-24T06:03:09.630067Z"
    },
    "papermill": {
     "duration": 0.036968,
     "end_time": "2023-01-24T06:03:09.635401",
     "exception": false,
     "start_time": "2023-01-24T06:03:09.598433",
     "status": "completed"
    },
    "tags": []
   },
   "outputs": [
    {
     "data": {
      "text/plain": [
       "(59957, 785)"
      ]
     },
     "execution_count": 14,
     "metadata": {},
     "output_type": "execute_result"
    }
   ],
   "source": [
    "df.shape"
   ]
  },
  {
   "cell_type": "code",
   "execution_count": 15,
   "id": "84428a28",
   "metadata": {
    "execution": {
     "iopub.execute_input": "2023-01-24T06:03:09.681309Z",
     "iopub.status.busy": "2023-01-24T06:03:09.680820Z",
     "iopub.status.idle": "2023-01-24T06:03:09.757901Z",
     "shell.execute_reply": "2023-01-24T06:03:09.756484Z"
    },
    "papermill": {
     "duration": 0.102324,
     "end_time": "2023-01-24T06:03:09.760879",
     "exception": false,
     "start_time": "2023-01-24T06:03:09.658555",
     "status": "completed"
    },
    "tags": []
   },
   "outputs": [
    {
     "data": {
      "text/html": [
       "<div>\n",
       "<style scoped>\n",
       "    .dataframe tbody tr th:only-of-type {\n",
       "        vertical-align: middle;\n",
       "    }\n",
       "\n",
       "    .dataframe tbody tr th {\n",
       "        vertical-align: top;\n",
       "    }\n",
       "\n",
       "    .dataframe thead th {\n",
       "        text-align: right;\n",
       "    }\n",
       "</style>\n",
       "<table border=\"1\" class=\"dataframe\">\n",
       "  <thead>\n",
       "    <tr style=\"text-align: right;\">\n",
       "      <th></th>\n",
       "      <th>null_val</th>\n",
       "    </tr>\n",
       "  </thead>\n",
       "  <tbody>\n",
       "  </tbody>\n",
       "</table>\n",
       "</div>"
      ],
      "text/plain": [
       "Empty DataFrame\n",
       "Columns: [null_val]\n",
       "Index: []"
      ]
     },
     "execution_count": 15,
     "metadata": {},
     "output_type": "execute_result"
    }
   ],
   "source": [
    "#checking null values\n",
    "df_na=pd.DataFrame(df.isna().sum(),columns={'null_val'})#DF is created because of High dimension\n",
    "df_na[df_na.null_val>0]\n",
    "#No Null Values"
   ]
  },
  {
   "cell_type": "code",
   "execution_count": 16,
   "id": "1a3718ed",
   "metadata": {
    "execution": {
     "iopub.execute_input": "2023-01-24T06:03:09.803722Z",
     "iopub.status.busy": "2023-01-24T06:03:09.803310Z",
     "iopub.status.idle": "2023-01-24T06:03:09.813848Z",
     "shell.execute_reply": "2023-01-24T06:03:09.812610Z"
    },
    "papermill": {
     "duration": 0.035024,
     "end_time": "2023-01-24T06:03:09.816532",
     "exception": false,
     "start_time": "2023-01-24T06:03:09.781508",
     "status": "completed"
    },
    "tags": []
   },
   "outputs": [
    {
     "data": {
      "text/plain": [
       "5    6000\n",
       "8    6000\n",
       "9    5998\n",
       "0    5998\n",
       "3    5997\n",
       "7    5996\n",
       "1    5996\n",
       "4    5995\n",
       "6    5989\n",
       "2    5988\n",
       "Name: label, dtype: int64"
      ]
     },
     "execution_count": 16,
     "metadata": {},
     "output_type": "execute_result"
    }
   ],
   "source": [
    "#checking counts of labels\n",
    "df['label'].value_counts()"
   ]
  },
  {
   "cell_type": "markdown",
   "id": "0423bfe9",
   "metadata": {
    "papermill": {
     "duration": 0.020036,
     "end_time": "2023-01-24T06:03:09.856742",
     "exception": false,
     "start_time": "2023-01-24T06:03:09.836706",
     "status": "completed"
    },
    "tags": []
   },
   "source": [
    "# Model Building-Without PCA"
   ]
  },
  {
   "cell_type": "code",
   "execution_count": 17,
   "id": "5ab8c526",
   "metadata": {
    "execution": {
     "iopub.execute_input": "2023-01-24T06:03:09.899635Z",
     "iopub.status.busy": "2023-01-24T06:03:09.898811Z",
     "iopub.status.idle": "2023-01-24T06:03:10.279358Z",
     "shell.execute_reply": "2023-01-24T06:03:10.277873Z"
    },
    "papermill": {
     "duration": 0.405555,
     "end_time": "2023-01-24T06:03:10.282439",
     "exception": false,
     "start_time": "2023-01-24T06:03:09.876884",
     "status": "completed"
    },
    "tags": []
   },
   "outputs": [],
   "source": [
    "from sklearn.model_selection import train_test_split\n",
    "from sklearn.neighbors import KNeighborsClassifier\n",
    "from sklearn.metrics import accuracy_score"
   ]
  },
  {
   "cell_type": "code",
   "execution_count": 18,
   "id": "15aabf58",
   "metadata": {
    "execution": {
     "iopub.execute_input": "2023-01-24T06:03:10.330571Z",
     "iopub.status.busy": "2023-01-24T06:03:10.329974Z",
     "iopub.status.idle": "2023-01-24T06:03:10.336536Z",
     "shell.execute_reply": "2023-01-24T06:03:10.335552Z"
    },
    "papermill": {
     "duration": 0.033544,
     "end_time": "2023-01-24T06:03:10.339161",
     "exception": false,
     "start_time": "2023-01-24T06:03:10.305617",
     "status": "completed"
    },
    "tags": []
   },
   "outputs": [],
   "source": [
    "x_train=df.iloc[:,1:]\n",
    "y_train=df.iloc[:,0]\n"
   ]
  },
  {
   "cell_type": "code",
   "execution_count": 19,
   "id": "2627063b",
   "metadata": {
    "execution": {
     "iopub.execute_input": "2023-01-24T06:03:10.389120Z",
     "iopub.status.busy": "2023-01-24T06:03:10.387176Z",
     "iopub.status.idle": "2023-01-24T06:03:10.417872Z",
     "shell.execute_reply": "2023-01-24T06:03:10.416652Z"
    },
    "papermill": {
     "duration": 0.058309,
     "end_time": "2023-01-24T06:03:10.420616",
     "exception": false,
     "start_time": "2023-01-24T06:03:10.362307",
     "status": "completed"
    },
    "tags": []
   },
   "outputs": [
    {
     "data": {
      "text/plain": [
       "KNeighborsClassifier()"
      ]
     },
     "execution_count": 19,
     "metadata": {},
     "output_type": "execute_result"
    }
   ],
   "source": [
    "knn= KNeighborsClassifier()\n",
    "knn.fit(x_train,y_train)"
   ]
  },
  {
   "cell_type": "markdown",
   "id": "bbcc93c3",
   "metadata": {
    "papermill": {
     "duration": 0.023483,
     "end_time": "2023-01-24T06:03:10.466336",
     "exception": false,
     "start_time": "2023-01-24T06:03:10.442853",
     "status": "completed"
    },
    "tags": []
   },
   "source": [
    "IMPORTING TEST DATASET"
   ]
  },
  {
   "cell_type": "code",
   "execution_count": 20,
   "id": "d7c992e2",
   "metadata": {
    "execution": {
     "iopub.execute_input": "2023-01-24T06:03:10.519705Z",
     "iopub.status.busy": "2023-01-24T06:03:10.518039Z",
     "iopub.status.idle": "2023-01-24T06:03:11.585483Z",
     "shell.execute_reply": "2023-01-24T06:03:11.584249Z"
    },
    "papermill": {
     "duration": 1.097701,
     "end_time": "2023-01-24T06:03:11.588783",
     "exception": false,
     "start_time": "2023-01-24T06:03:10.491082",
     "status": "completed"
    },
    "tags": []
   },
   "outputs": [
    {
     "data": {
      "text/html": [
       "<div>\n",
       "<style scoped>\n",
       "    .dataframe tbody tr th:only-of-type {\n",
       "        vertical-align: middle;\n",
       "    }\n",
       "\n",
       "    .dataframe tbody tr th {\n",
       "        vertical-align: top;\n",
       "    }\n",
       "\n",
       "    .dataframe thead th {\n",
       "        text-align: right;\n",
       "    }\n",
       "</style>\n",
       "<table border=\"1\" class=\"dataframe\">\n",
       "  <thead>\n",
       "    <tr style=\"text-align: right;\">\n",
       "      <th></th>\n",
       "      <th>label</th>\n",
       "      <th>pixel1</th>\n",
       "      <th>pixel2</th>\n",
       "      <th>pixel3</th>\n",
       "      <th>pixel4</th>\n",
       "      <th>pixel5</th>\n",
       "      <th>pixel6</th>\n",
       "      <th>pixel7</th>\n",
       "      <th>pixel8</th>\n",
       "      <th>pixel9</th>\n",
       "      <th>...</th>\n",
       "      <th>pixel775</th>\n",
       "      <th>pixel776</th>\n",
       "      <th>pixel777</th>\n",
       "      <th>pixel778</th>\n",
       "      <th>pixel779</th>\n",
       "      <th>pixel780</th>\n",
       "      <th>pixel781</th>\n",
       "      <th>pixel782</th>\n",
       "      <th>pixel783</th>\n",
       "      <th>pixel784</th>\n",
       "    </tr>\n",
       "  </thead>\n",
       "  <tbody>\n",
       "    <tr>\n",
       "      <th>0</th>\n",
       "      <td>0</td>\n",
       "      <td>0</td>\n",
       "      <td>0</td>\n",
       "      <td>0</td>\n",
       "      <td>0</td>\n",
       "      <td>0</td>\n",
       "      <td>0</td>\n",
       "      <td>0</td>\n",
       "      <td>9</td>\n",
       "      <td>8</td>\n",
       "      <td>...</td>\n",
       "      <td>103</td>\n",
       "      <td>87</td>\n",
       "      <td>56</td>\n",
       "      <td>0</td>\n",
       "      <td>0</td>\n",
       "      <td>0</td>\n",
       "      <td>0</td>\n",
       "      <td>0</td>\n",
       "      <td>0</td>\n",
       "      <td>0</td>\n",
       "    </tr>\n",
       "    <tr>\n",
       "      <th>1</th>\n",
       "      <td>1</td>\n",
       "      <td>0</td>\n",
       "      <td>0</td>\n",
       "      <td>0</td>\n",
       "      <td>0</td>\n",
       "      <td>0</td>\n",
       "      <td>0</td>\n",
       "      <td>0</td>\n",
       "      <td>0</td>\n",
       "      <td>0</td>\n",
       "      <td>...</td>\n",
       "      <td>34</td>\n",
       "      <td>0</td>\n",
       "      <td>0</td>\n",
       "      <td>0</td>\n",
       "      <td>0</td>\n",
       "      <td>0</td>\n",
       "      <td>0</td>\n",
       "      <td>0</td>\n",
       "      <td>0</td>\n",
       "      <td>0</td>\n",
       "    </tr>\n",
       "    <tr>\n",
       "      <th>2</th>\n",
       "      <td>2</td>\n",
       "      <td>0</td>\n",
       "      <td>0</td>\n",
       "      <td>0</td>\n",
       "      <td>0</td>\n",
       "      <td>0</td>\n",
       "      <td>0</td>\n",
       "      <td>14</td>\n",
       "      <td>53</td>\n",
       "      <td>99</td>\n",
       "      <td>...</td>\n",
       "      <td>0</td>\n",
       "      <td>0</td>\n",
       "      <td>0</td>\n",
       "      <td>0</td>\n",
       "      <td>63</td>\n",
       "      <td>53</td>\n",
       "      <td>31</td>\n",
       "      <td>0</td>\n",
       "      <td>0</td>\n",
       "      <td>0</td>\n",
       "    </tr>\n",
       "    <tr>\n",
       "      <th>3</th>\n",
       "      <td>2</td>\n",
       "      <td>0</td>\n",
       "      <td>0</td>\n",
       "      <td>0</td>\n",
       "      <td>0</td>\n",
       "      <td>0</td>\n",
       "      <td>0</td>\n",
       "      <td>0</td>\n",
       "      <td>0</td>\n",
       "      <td>0</td>\n",
       "      <td>...</td>\n",
       "      <td>137</td>\n",
       "      <td>126</td>\n",
       "      <td>140</td>\n",
       "      <td>0</td>\n",
       "      <td>133</td>\n",
       "      <td>224</td>\n",
       "      <td>222</td>\n",
       "      <td>56</td>\n",
       "      <td>0</td>\n",
       "      <td>0</td>\n",
       "    </tr>\n",
       "    <tr>\n",
       "      <th>4</th>\n",
       "      <td>3</td>\n",
       "      <td>0</td>\n",
       "      <td>0</td>\n",
       "      <td>0</td>\n",
       "      <td>0</td>\n",
       "      <td>0</td>\n",
       "      <td>0</td>\n",
       "      <td>0</td>\n",
       "      <td>0</td>\n",
       "      <td>0</td>\n",
       "      <td>...</td>\n",
       "      <td>0</td>\n",
       "      <td>0</td>\n",
       "      <td>0</td>\n",
       "      <td>0</td>\n",
       "      <td>0</td>\n",
       "      <td>0</td>\n",
       "      <td>0</td>\n",
       "      <td>0</td>\n",
       "      <td>0</td>\n",
       "      <td>0</td>\n",
       "    </tr>\n",
       "  </tbody>\n",
       "</table>\n",
       "<p>5 rows × 785 columns</p>\n",
       "</div>"
      ],
      "text/plain": [
       "   label  pixel1  pixel2  pixel3  pixel4  pixel5  pixel6  pixel7  pixel8  \\\n",
       "0      0       0       0       0       0       0       0       0       9   \n",
       "1      1       0       0       0       0       0       0       0       0   \n",
       "2      2       0       0       0       0       0       0      14      53   \n",
       "3      2       0       0       0       0       0       0       0       0   \n",
       "4      3       0       0       0       0       0       0       0       0   \n",
       "\n",
       "   pixel9  ...  pixel775  pixel776  pixel777  pixel778  pixel779  pixel780  \\\n",
       "0       8  ...       103        87        56         0         0         0   \n",
       "1       0  ...        34         0         0         0         0         0   \n",
       "2      99  ...         0         0         0         0        63        53   \n",
       "3       0  ...       137       126       140         0       133       224   \n",
       "4       0  ...         0         0         0         0         0         0   \n",
       "\n",
       "   pixel781  pixel782  pixel783  pixel784  \n",
       "0         0         0         0         0  \n",
       "1         0         0         0         0  \n",
       "2        31         0         0         0  \n",
       "3       222        56         0         0  \n",
       "4         0         0         0         0  \n",
       "\n",
       "[5 rows x 785 columns]"
      ]
     },
     "execution_count": 20,
     "metadata": {},
     "output_type": "execute_result"
    }
   ],
   "source": [
    "df_test=pd.read_csv(r'/kaggle/input/fashionmnist/fashion-mnist_test.csv')\n",
    "df_test.head()"
   ]
  },
  {
   "cell_type": "code",
   "execution_count": 21,
   "id": "2de155cb",
   "metadata": {
    "execution": {
     "iopub.execute_input": "2023-01-24T06:03:11.636842Z",
     "iopub.status.busy": "2023-01-24T06:03:11.636402Z",
     "iopub.status.idle": "2023-01-24T06:03:11.644057Z",
     "shell.execute_reply": "2023-01-24T06:03:11.642545Z"
    },
    "papermill": {
     "duration": 0.035602,
     "end_time": "2023-01-24T06:03:11.646962",
     "exception": false,
     "start_time": "2023-01-24T06:03:11.611360",
     "status": "completed"
    },
    "tags": []
   },
   "outputs": [
    {
     "data": {
      "text/plain": [
       "(59957, 785)"
      ]
     },
     "execution_count": 21,
     "metadata": {},
     "output_type": "execute_result"
    }
   ],
   "source": [
    "df.shape"
   ]
  },
  {
   "cell_type": "code",
   "execution_count": 22,
   "id": "f3308e51",
   "metadata": {
    "execution": {
     "iopub.execute_input": "2023-01-24T06:03:11.691581Z",
     "iopub.status.busy": "2023-01-24T06:03:11.690067Z",
     "iopub.status.idle": "2023-01-24T06:03:11.697419Z",
     "shell.execute_reply": "2023-01-24T06:03:11.696055Z"
    },
    "papermill": {
     "duration": 0.032316,
     "end_time": "2023-01-24T06:03:11.700382",
     "exception": false,
     "start_time": "2023-01-24T06:03:11.668066",
     "status": "completed"
    },
    "tags": []
   },
   "outputs": [],
   "source": [
    "x_test=df_test.iloc[:,1:]\n",
    "y_test=df_test.iloc[:,0]"
   ]
  },
  {
   "cell_type": "markdown",
   "id": "f2f9a6c5",
   "metadata": {
    "papermill": {
     "duration": 0.020072,
     "end_time": "2023-01-24T06:03:11.740915",
     "exception": false,
     "start_time": "2023-01-24T06:03:11.720843",
     "status": "completed"
    },
    "tags": []
   },
   "source": [
    "IMPORTING TIME MODULE TO CHECK TIME TAKEN FOR EXECUTION."
   ]
  },
  {
   "cell_type": "code",
   "execution_count": 23,
   "id": "78257471",
   "metadata": {
    "execution": {
     "iopub.execute_input": "2023-01-24T06:03:11.788465Z",
     "iopub.status.busy": "2023-01-24T06:03:11.786660Z",
     "iopub.status.idle": "2023-01-24T06:03:40.195621Z",
     "shell.execute_reply": "2023-01-24T06:03:40.193782Z"
    },
    "papermill": {
     "duration": 28.436732,
     "end_time": "2023-01-24T06:03:40.199462",
     "exception": false,
     "start_time": "2023-01-24T06:03:11.762730",
     "status": "completed"
    },
    "tags": []
   },
   "outputs": [
    {
     "name": "stdout",
     "output_type": "stream",
     "text": [
      "28.399935960769653\n"
     ]
    }
   ],
   "source": [
    "import time\n",
    "start=time.time()\n",
    "y_predict=knn.predict(x_test)\n",
    "print(time.time()-start)"
   ]
  },
  {
   "cell_type": "code",
   "execution_count": 24,
   "id": "f4052709",
   "metadata": {
    "execution": {
     "iopub.execute_input": "2023-01-24T06:03:40.244141Z",
     "iopub.status.busy": "2023-01-24T06:03:40.243621Z",
     "iopub.status.idle": "2023-01-24T06:03:40.251799Z",
     "shell.execute_reply": "2023-01-24T06:03:40.250249Z"
    },
    "papermill": {
     "duration": 0.034028,
     "end_time": "2023-01-24T06:03:40.255187",
     "exception": false,
     "start_time": "2023-01-24T06:03:40.221159",
     "status": "completed"
    },
    "tags": []
   },
   "outputs": [
    {
     "name": "stdout",
     "output_type": "stream",
     "text": [
      "0.8588\n"
     ]
    }
   ],
   "source": [
    "print(accuracy_score(y_test,y_predict))"
   ]
  },
  {
   "cell_type": "markdown",
   "id": "909d88b0",
   "metadata": {
    "papermill": {
     "duration": 0.022357,
     "end_time": "2023-01-24T06:03:40.298735",
     "exception": false,
     "start_time": "2023-01-24T06:03:40.276378",
     "status": "completed"
    },
    "tags": []
   },
   "source": [
    "Time took for Prediction is 28 seconds approx and accuracy 86%(approx) without PCA"
   ]
  },
  {
   "cell_type": "markdown",
   "id": "2bb93e64",
   "metadata": {
    "papermill": {
     "duration": 0.020778,
     "end_time": "2023-01-24T06:03:40.342170",
     "exception": false,
     "start_time": "2023-01-24T06:03:40.321392",
     "status": "completed"
    },
    "tags": []
   },
   "source": [
    "# PCA"
   ]
  },
  {
   "cell_type": "markdown",
   "id": "40042e19",
   "metadata": {
    "papermill": {
     "duration": 0.022842,
     "end_time": "2023-01-24T06:03:40.386372",
     "exception": false,
     "start_time": "2023-01-24T06:03:40.363530",
     "status": "completed"
    },
    "tags": []
   },
   "source": [
    "Before moving to PCA,PCA is a statistical techinique to find Principal components or eigen vectors on which data can be Projected with High variance or without loosings its essence."
   ]
  },
  {
   "cell_type": "code",
   "execution_count": 25,
   "id": "b325e1d0",
   "metadata": {
    "execution": {
     "iopub.execute_input": "2023-01-24T06:03:40.431061Z",
     "iopub.status.busy": "2023-01-24T06:03:40.430548Z",
     "iopub.status.idle": "2023-01-24T06:03:40.435638Z",
     "shell.execute_reply": "2023-01-24T06:03:40.434610Z"
    },
    "papermill": {
     "duration": 0.030126,
     "end_time": "2023-01-24T06:03:40.437948",
     "exception": false,
     "start_time": "2023-01-24T06:03:40.407822",
     "status": "completed"
    },
    "tags": []
   },
   "outputs": [],
   "source": [
    "from sklearn.decomposition import PCA"
   ]
  },
  {
   "cell_type": "code",
   "execution_count": 26,
   "id": "98f27122",
   "metadata": {
    "execution": {
     "iopub.execute_input": "2023-01-24T06:03:40.483361Z",
     "iopub.status.busy": "2023-01-24T06:03:40.482557Z",
     "iopub.status.idle": "2023-01-24T06:03:40.487806Z",
     "shell.execute_reply": "2023-01-24T06:03:40.486560Z"
    },
    "papermill": {
     "duration": 0.032038,
     "end_time": "2023-01-24T06:03:40.491030",
     "exception": false,
     "start_time": "2023-01-24T06:03:40.458992",
     "status": "completed"
    },
    "tags": []
   },
   "outputs": [],
   "source": [
    "#CHECKING WITH 100 COMPONENTS"
   ]
  },
  {
   "cell_type": "code",
   "execution_count": 27,
   "id": "45738d60",
   "metadata": {
    "execution": {
     "iopub.execute_input": "2023-01-24T06:03:40.537515Z",
     "iopub.status.busy": "2023-01-24T06:03:40.536892Z",
     "iopub.status.idle": "2023-01-24T06:03:40.543266Z",
     "shell.execute_reply": "2023-01-24T06:03:40.541898Z"
    },
    "papermill": {
     "duration": 0.032434,
     "end_time": "2023-01-24T06:03:40.545850",
     "exception": false,
     "start_time": "2023-01-24T06:03:40.513416",
     "status": "completed"
    },
    "tags": []
   },
   "outputs": [],
   "source": [
    "pca_1=PCA(n_components=100)"
   ]
  },
  {
   "cell_type": "code",
   "execution_count": 28,
   "id": "269323c3",
   "metadata": {
    "execution": {
     "iopub.execute_input": "2023-01-24T06:03:40.590912Z",
     "iopub.status.busy": "2023-01-24T06:03:40.589793Z",
     "iopub.status.idle": "2023-01-24T06:03:40.595827Z",
     "shell.execute_reply": "2023-01-24T06:03:40.594575Z"
    },
    "papermill": {
     "duration": 0.03116,
     "end_time": "2023-01-24T06:03:40.598345",
     "exception": false,
     "start_time": "2023-01-24T06:03:40.567185",
     "status": "completed"
    },
    "tags": []
   },
   "outputs": [],
   "source": [
    "from sklearn.preprocessing import StandardScaler"
   ]
  },
  {
   "cell_type": "code",
   "execution_count": 29,
   "id": "57ef1f5b",
   "metadata": {
    "execution": {
     "iopub.execute_input": "2023-01-24T06:03:40.643654Z",
     "iopub.status.busy": "2023-01-24T06:03:40.642493Z",
     "iopub.status.idle": "2023-01-24T06:03:41.784442Z",
     "shell.execute_reply": "2023-01-24T06:03:41.783067Z"
    },
    "papermill": {
     "duration": 1.168455,
     "end_time": "2023-01-24T06:03:41.787872",
     "exception": false,
     "start_time": "2023-01-24T06:03:40.619417",
     "status": "completed"
    },
    "tags": []
   },
   "outputs": [],
   "source": [
    "ss=StandardScaler()\n",
    "x_train_s=ss.fit_transform(x_train)\n",
    "x_test_s=ss.transform(x_test)"
   ]
  },
  {
   "cell_type": "code",
   "execution_count": 30,
   "id": "5b018521",
   "metadata": {
    "execution": {
     "iopub.execute_input": "2023-01-24T06:03:41.832304Z",
     "iopub.status.busy": "2023-01-24T06:03:41.831862Z",
     "iopub.status.idle": "2023-01-24T06:03:48.362001Z",
     "shell.execute_reply": "2023-01-24T06:03:48.360235Z"
    },
    "papermill": {
     "duration": 6.55772,
     "end_time": "2023-01-24T06:03:48.366673",
     "exception": false,
     "start_time": "2023-01-24T06:03:41.808953",
     "status": "completed"
    },
    "tags": []
   },
   "outputs": [],
   "source": [
    "x_train_trf=pca_1.fit_transform(x_train_s)\n",
    "x_test_trf=pca_1.transform(x_test_s)"
   ]
  },
  {
   "cell_type": "code",
   "execution_count": 31,
   "id": "18b643d3",
   "metadata": {
    "execution": {
     "iopub.execute_input": "2023-01-24T06:03:48.476558Z",
     "iopub.status.busy": "2023-01-24T06:03:48.475849Z",
     "iopub.status.idle": "2023-01-24T06:03:48.483583Z",
     "shell.execute_reply": "2023-01-24T06:03:48.482483Z"
    },
    "papermill": {
     "duration": 0.066611,
     "end_time": "2023-01-24T06:03:48.487103",
     "exception": false,
     "start_time": "2023-01-24T06:03:48.420492",
     "status": "completed"
    },
    "tags": []
   },
   "outputs": [
    {
     "data": {
      "text/plain": [
       "(59957, 100)"
      ]
     },
     "execution_count": 31,
     "metadata": {},
     "output_type": "execute_result"
    }
   ],
   "source": [
    "x_train_trf.shape"
   ]
  },
  {
   "cell_type": "code",
   "execution_count": 32,
   "id": "5b6f893d",
   "metadata": {
    "execution": {
     "iopub.execute_input": "2023-01-24T06:03:48.535743Z",
     "iopub.status.busy": "2023-01-24T06:03:48.534955Z",
     "iopub.status.idle": "2023-01-24T06:03:48.539922Z",
     "shell.execute_reply": "2023-01-24T06:03:48.538883Z"
    },
    "papermill": {
     "duration": 0.031656,
     "end_time": "2023-01-24T06:03:48.542544",
     "exception": false,
     "start_time": "2023-01-24T06:03:48.510888",
     "status": "completed"
    },
    "tags": []
   },
   "outputs": [],
   "source": [
    "knn_1=KNeighborsClassifier()"
   ]
  },
  {
   "cell_type": "code",
   "execution_count": 33,
   "id": "8383fb91",
   "metadata": {
    "execution": {
     "iopub.execute_input": "2023-01-24T06:03:48.589382Z",
     "iopub.status.busy": "2023-01-24T06:03:48.588577Z",
     "iopub.status.idle": "2023-01-24T06:03:48.609804Z",
     "shell.execute_reply": "2023-01-24T06:03:48.608218Z"
    },
    "papermill": {
     "duration": 0.047617,
     "end_time": "2023-01-24T06:03:48.612753",
     "exception": false,
     "start_time": "2023-01-24T06:03:48.565136",
     "status": "completed"
    },
    "tags": []
   },
   "outputs": [
    {
     "data": {
      "text/plain": [
       "KNeighborsClassifier()"
      ]
     },
     "execution_count": 33,
     "metadata": {},
     "output_type": "execute_result"
    }
   ],
   "source": [
    "knn.fit(x_train_trf,y_train)\n"
   ]
  },
  {
   "cell_type": "code",
   "execution_count": 34,
   "id": "e6fc92d9",
   "metadata": {
    "execution": {
     "iopub.execute_input": "2023-01-24T06:03:48.659655Z",
     "iopub.status.busy": "2023-01-24T06:03:48.659199Z",
     "iopub.status.idle": "2023-01-24T06:04:03.784417Z",
     "shell.execute_reply": "2023-01-24T06:04:03.782379Z"
    },
    "papermill": {
     "duration": 15.151843,
     "end_time": "2023-01-24T06:04:03.787797",
     "exception": false,
     "start_time": "2023-01-24T06:03:48.635954",
     "status": "completed"
    },
    "tags": []
   },
   "outputs": [
    {
     "name": "stdout",
     "output_type": "stream",
     "text": [
      "15.118163108825684\n"
     ]
    }
   ],
   "source": [
    "start=time.time()\n",
    "y_predict_1=knn.predict(x_test_trf)\n",
    "print(time.time()-start)"
   ]
  },
  {
   "cell_type": "code",
   "execution_count": 35,
   "id": "b181f36b",
   "metadata": {
    "execution": {
     "iopub.execute_input": "2023-01-24T06:04:03.835205Z",
     "iopub.status.busy": "2023-01-24T06:04:03.834176Z",
     "iopub.status.idle": "2023-01-24T06:04:03.843523Z",
     "shell.execute_reply": "2023-01-24T06:04:03.841223Z"
    },
    "papermill": {
     "duration": 0.035908,
     "end_time": "2023-01-24T06:04:03.846381",
     "exception": false,
     "start_time": "2023-01-24T06:04:03.810473",
     "status": "completed"
    },
    "tags": []
   },
   "outputs": [
    {
     "name": "stdout",
     "output_type": "stream",
     "text": [
      "0.8666\n"
     ]
    }
   ],
   "source": [
    "print(accuracy_score(y_test,y_predict_1))"
   ]
  },
  {
   "cell_type": "markdown",
   "id": "f0eb1bf4",
   "metadata": {
    "papermill": {
     "duration": 0.020777,
     "end_time": "2023-01-24T06:04:03.888658",
     "exception": false,
     "start_time": "2023-01-24T06:04:03.867881",
     "status": "completed"
    },
    "tags": []
   },
   "source": [
    "Check with 100 components time taken is lesser (14 seconds) than no PCA and accuracy also improved to 87%.\n"
   ]
  },
  {
   "cell_type": "markdown",
   "id": "d738ac44",
   "metadata": {
    "papermill": {
     "duration": 0.020501,
     "end_time": "2023-01-24T06:04:03.929837",
     "exception": false,
     "start_time": "2023-01-24T06:04:03.909336",
     "status": "completed"
    },
    "tags": []
   },
   "source": []
  },
  {
   "cell_type": "code",
   "execution_count": 36,
   "id": "573c3988",
   "metadata": {
    "execution": {
     "iopub.execute_input": "2023-01-24T06:04:03.974680Z",
     "iopub.status.busy": "2023-01-24T06:04:03.973363Z",
     "iopub.status.idle": "2023-01-24T06:04:14.663015Z",
     "shell.execute_reply": "2023-01-24T06:04:14.661191Z"
    },
    "papermill": {
     "duration": 10.717758,
     "end_time": "2023-01-24T06:04:14.668475",
     "exception": false,
     "start_time": "2023-01-24T06:04:03.950717",
     "status": "completed"
    },
    "tags": []
   },
   "outputs": [],
   "source": [
    "#check with 200 components\n",
    "pca_2=PCA(n_components=200)\n",
    "x_train_trf_2=pca_2.fit_transform(x_train_s)\n",
    "x_test_trf_2=pca_2.transform(x_test_s) "
   ]
  },
  {
   "cell_type": "code",
   "execution_count": 37,
   "id": "e9f938fd",
   "metadata": {
    "execution": {
     "iopub.execute_input": "2023-01-24T06:04:14.788083Z",
     "iopub.status.busy": "2023-01-24T06:04:14.787680Z",
     "iopub.status.idle": "2023-01-24T06:04:14.794717Z",
     "shell.execute_reply": "2023-01-24T06:04:14.793722Z"
    },
    "papermill": {
     "duration": 0.065331,
     "end_time": "2023-01-24T06:04:14.797206",
     "exception": false,
     "start_time": "2023-01-24T06:04:14.731875",
     "status": "completed"
    },
    "tags": []
   },
   "outputs": [
    {
     "data": {
      "text/plain": [
       "(59957, 200)"
      ]
     },
     "execution_count": 37,
     "metadata": {},
     "output_type": "execute_result"
    }
   ],
   "source": [
    "x_train_trf_2.shape"
   ]
  },
  {
   "cell_type": "code",
   "execution_count": 38,
   "id": "75a9eef5",
   "metadata": {
    "execution": {
     "iopub.execute_input": "2023-01-24T06:04:14.844907Z",
     "iopub.status.busy": "2023-01-24T06:04:14.843973Z",
     "iopub.status.idle": "2023-01-24T06:04:14.880203Z",
     "shell.execute_reply": "2023-01-24T06:04:14.878613Z"
    },
    "papermill": {
     "duration": 0.063718,
     "end_time": "2023-01-24T06:04:14.883707",
     "exception": false,
     "start_time": "2023-01-24T06:04:14.819989",
     "status": "completed"
    },
    "tags": []
   },
   "outputs": [
    {
     "data": {
      "text/plain": [
       "KNeighborsClassifier()"
      ]
     },
     "execution_count": 38,
     "metadata": {},
     "output_type": "execute_result"
    }
   ],
   "source": [
    "knn_2=KNeighborsClassifier()\n",
    "knn_2.fit(x_train_trf_2,y_train)\n"
   ]
  },
  {
   "cell_type": "code",
   "execution_count": 39,
   "id": "81605779",
   "metadata": {
    "execution": {
     "iopub.execute_input": "2023-01-24T06:04:14.929775Z",
     "iopub.status.busy": "2023-01-24T06:04:14.929230Z",
     "iopub.status.idle": "2023-01-24T06:04:32.399954Z",
     "shell.execute_reply": "2023-01-24T06:04:32.398739Z"
    },
    "papermill": {
     "duration": 17.497053,
     "end_time": "2023-01-24T06:04:32.402978",
     "exception": false,
     "start_time": "2023-01-24T06:04:14.905925",
     "status": "completed"
    },
    "tags": []
   },
   "outputs": [
    {
     "name": "stdout",
     "output_type": "stream",
     "text": [
      "17.46440076828003\n"
     ]
    }
   ],
   "source": [
    "start=time.time()\n",
    "y_predict_2=knn_2.predict(x_test_trf_2)\n",
    "print(time.time()-start)"
   ]
  },
  {
   "cell_type": "code",
   "execution_count": 40,
   "id": "886d752e",
   "metadata": {
    "execution": {
     "iopub.execute_input": "2023-01-24T06:04:32.449980Z",
     "iopub.status.busy": "2023-01-24T06:04:32.449576Z",
     "iopub.status.idle": "2023-01-24T06:04:32.458597Z",
     "shell.execute_reply": "2023-01-24T06:04:32.457608Z"
    },
    "papermill": {
     "duration": 0.036193,
     "end_time": "2023-01-24T06:04:32.461200",
     "exception": false,
     "start_time": "2023-01-24T06:04:32.425007",
     "status": "completed"
    },
    "tags": []
   },
   "outputs": [
    {
     "data": {
      "text/plain": [
       "0.8696"
      ]
     },
     "execution_count": 40,
     "metadata": {},
     "output_type": "execute_result"
    }
   ],
   "source": [
    "accuracy_score(y_test,y_predict_2)"
   ]
  },
  {
   "cell_type": "markdown",
   "id": "1439f938",
   "metadata": {
    "papermill": {
     "duration": 0.021231,
     "end_time": "2023-01-24T06:04:32.504709",
     "exception": false,
     "start_time": "2023-01-24T06:04:32.483478",
     "status": "completed"
    },
    "tags": []
   },
   "source": [
    "A VERY VERY SLIIGHT DECREASE IN ACCURACY FROM 100 TO 200"
   ]
  },
  {
   "cell_type": "markdown",
   "id": "43514b93",
   "metadata": {
    "papermill": {
     "duration": 0.021536,
     "end_time": "2023-01-24T06:04:32.548098",
     "exception": false,
     "start_time": "2023-01-24T06:04:32.526562",
     "status": "completed"
    },
    "tags": []
   },
   "source": [
    "# VARIANCE PARAMETERS"
   ]
  },
  {
   "cell_type": "markdown",
   "id": "f0d81dd4",
   "metadata": {
    "papermill": {
     "duration": 0.021619,
     "end_time": "2023-01-24T06:04:32.592370",
     "exception": false,
     "start_time": "2023-01-24T06:04:32.570751",
     "status": "completed"
    },
    "tags": []
   },
   "source": [
    "to check variance parameters for 100 components"
   ]
  },
  {
   "cell_type": "code",
   "execution_count": 41,
   "id": "04aa7364",
   "metadata": {
    "execution": {
     "iopub.execute_input": "2023-01-24T06:04:32.638693Z",
     "iopub.status.busy": "2023-01-24T06:04:32.637932Z",
     "iopub.status.idle": "2023-01-24T06:04:32.645902Z",
     "shell.execute_reply": "2023-01-24T06:04:32.644670Z"
    },
    "papermill": {
     "duration": 0.03443,
     "end_time": "2023-01-24T06:04:32.648752",
     "exception": false,
     "start_time": "2023-01-24T06:04:32.614322",
     "status": "completed"
    },
    "tags": []
   },
   "outputs": [
    {
     "data": {
      "text/plain": [
       "array([172.91636853, 112.86896997,  42.79218235,  40.11028094,\n",
       "        31.90072627,  23.62407566,  21.56612704,  18.23346621,\n",
       "        13.28240429,  10.26875183,   9.1071688 ,   7.55159075,\n",
       "         6.98105525,   6.71734213,   5.8266424 ,   5.72400209,\n",
       "         5.15487502,   4.96216043,   4.88937592,   4.5506916 ,\n",
       "         4.04318829,   4.01099522,   3.70719547,   3.5567358 ,\n",
       "         3.43797823,   3.26728798,   3.09769286,   3.08320241,\n",
       "         2.96550811,   2.93636449,   2.88918502,   2.77105439,\n",
       "         2.63814986,   2.58721817,   2.58348919,   2.50704749,\n",
       "         2.39920478,   2.30259847,   2.26692545,   2.20282935,\n",
       "         2.13237149,   2.08514907,   2.00415371,   1.98950751,\n",
       "         1.92193897,   1.90733685,   1.87167774,   1.78831837,\n",
       "         1.75095366,   1.6912868 ,   1.66688398,   1.63877246,\n",
       "         1.58556518,   1.57930008,   1.56216047,   1.53066878,\n",
       "         1.497199  ,   1.45537463,   1.42299918,   1.39709117,\n",
       "         1.37753861,   1.35916034,   1.33903033,   1.31362048,\n",
       "         1.26383078,   1.23179385,   1.21059505,   1.18088558,\n",
       "         1.16339592,   1.14487757,   1.12805971,   1.11911103,\n",
       "         1.1136179 ,   1.09626859,   1.07264705,   1.06965496,\n",
       "         1.04761515,   1.01838707,   1.00916481,   0.98690611,\n",
       "         0.96933592,   0.94690539,   0.94101264,   0.92504557,\n",
       "         0.91453125,   0.88111118,   0.86218419,   0.85726531,\n",
       "         0.85378965,   0.84567389,   0.82488239,   0.82368054,\n",
       "         0.81237156,   0.7878308 ,   0.7622732 ,   0.75258865,\n",
       "         0.74731501,   0.74492462,   0.72548928,   0.71258494])"
      ]
     },
     "execution_count": 41,
     "metadata": {},
     "output_type": "execute_result"
    }
   ],
   "source": [
    "#EIGEN VALUES\n",
    "pca_1.explained_variance_\n",
    "#eigen values of top 100 componenets"
   ]
  },
  {
   "cell_type": "code",
   "execution_count": 42,
   "id": "50885d22",
   "metadata": {
    "execution": {
     "iopub.execute_input": "2023-01-24T06:04:32.696631Z",
     "iopub.status.busy": "2023-01-24T06:04:32.696181Z",
     "iopub.status.idle": "2023-01-24T06:04:32.704859Z",
     "shell.execute_reply": "2023-01-24T06:04:32.703505Z"
    },
    "papermill": {
     "duration": 0.03565,
     "end_time": "2023-01-24T06:04:32.707329",
     "exception": false,
     "start_time": "2023-01-24T06:04:32.671679",
     "status": "completed"
    },
    "tags": []
   },
   "outputs": [
    {
     "data": {
      "text/plain": [
       "array([[ 0.00031418,  0.00088176,  0.00149206, ...,  0.0064949 ,\n",
       "         0.00146716,  0.00066803],\n",
       "       [ 0.00017924,  0.00145036,  0.00115961, ...,  0.01408482,\n",
       "         0.00961574,  0.00409093],\n",
       "       [ 0.00011481,  0.0008581 ,  0.00188434, ...,  0.00894467,\n",
       "        -0.002327  , -0.00124547],\n",
       "       ...,\n",
       "       [-0.06224168,  0.02267882,  0.08996714, ..., -0.0240935 ,\n",
       "        -0.02000203, -0.02746777],\n",
       "       [-0.03800962,  0.07866607,  0.00646046, ..., -0.0393504 ,\n",
       "        -0.00482535, -0.05436519],\n",
       "       [-0.07552355,  0.02355961,  0.03143191, ..., -0.03732187,\n",
       "        -0.0303665 , -0.02238972]])"
      ]
     },
     "execution_count": 42,
     "metadata": {},
     "output_type": "execute_result"
    }
   ],
   "source": [
    "# CORRESPONDING EIGEN VECTORS\n",
    "pca_1.components_"
   ]
  },
  {
   "cell_type": "code",
   "execution_count": 43,
   "id": "8ef8638d",
   "metadata": {
    "execution": {
     "iopub.execute_input": "2023-01-24T06:04:32.755395Z",
     "iopub.status.busy": "2023-01-24T06:04:32.753945Z",
     "iopub.status.idle": "2023-01-24T06:04:32.761588Z",
     "shell.execute_reply": "2023-01-24T06:04:32.760519Z"
    },
    "papermill": {
     "duration": 0.033714,
     "end_time": "2023-01-24T06:04:32.763795",
     "exception": false,
     "start_time": "2023-01-24T06:04:32.730081",
     "status": "completed"
    },
    "tags": []
   },
   "outputs": [
    {
     "data": {
      "text/plain": [
       "(100, 784)"
      ]
     },
     "execution_count": 43,
     "metadata": {},
     "output_type": "execute_result"
    }
   ],
   "source": [
    "pca_1.components_.shape"
   ]
  },
  {
   "cell_type": "code",
   "execution_count": 44,
   "id": "8e8981f2",
   "metadata": {
    "execution": {
     "iopub.execute_input": "2023-01-24T06:04:32.810626Z",
     "iopub.status.busy": "2023-01-24T06:04:32.809218Z",
     "iopub.status.idle": "2023-01-24T06:04:32.820013Z",
     "shell.execute_reply": "2023-01-24T06:04:32.818455Z"
    },
    "papermill": {
     "duration": 0.037439,
     "end_time": "2023-01-24T06:04:32.823251",
     "exception": false,
     "start_time": "2023-01-24T06:04:32.785812",
     "status": "completed"
    },
    "tags": []
   },
   "outputs": [
    {
     "data": {
      "text/plain": [
       "array([0.22055291, 0.14396312, 0.05458095, 0.05116022, 0.04068902,\n",
       "       0.03013225, 0.02750736, 0.02325658, 0.01694156, 0.01309768,\n",
       "       0.01161609, 0.00963197, 0.00890426, 0.0085679 , 0.00743182,\n",
       "       0.0073009 , 0.00657499, 0.00632918, 0.00623634, 0.00580436,\n",
       "       0.00515704, 0.00511598, 0.00472849, 0.00453658, 0.0043851 ,\n",
       "       0.00416739, 0.00395107, 0.00393259, 0.00378247, 0.0037453 ,\n",
       "       0.00368512, 0.00353445, 0.00336493, 0.00329997, 0.00329521,\n",
       "       0.00319771, 0.00306016, 0.00293694, 0.00289144, 0.00280968,\n",
       "       0.00271982, 0.00265958, 0.00255628, 0.00253759, 0.00245141,\n",
       "       0.00243279, 0.0023873 , 0.00228098, 0.00223332, 0.00215722,\n",
       "       0.00212609, 0.00209024, 0.00202237, 0.00201438, 0.00199252,\n",
       "       0.00195235, 0.00190966, 0.00185631, 0.00181502, 0.00178197,\n",
       "       0.00175704, 0.00173359, 0.00170792, 0.00167551, 0.001612  ,\n",
       "       0.00157114, 0.0015441 , 0.00150621, 0.0014839 , 0.00146028,\n",
       "       0.00143883, 0.00142741, 0.00142041, 0.00139828, 0.00136815,\n",
       "       0.00136433, 0.00133622, 0.00129894, 0.00128718, 0.00125879,\n",
       "       0.00123638, 0.00120777, 0.00120025, 0.00117989, 0.00116647,\n",
       "       0.00112385, 0.00109971, 0.00109343, 0.001089  , 0.00107865,\n",
       "       0.00105213, 0.0010506 , 0.00103617, 0.00100487, 0.00097227,\n",
       "       0.00095992, 0.00095319, 0.00095014, 0.00092535, 0.00090889])"
      ]
     },
     "execution_count": 44,
     "metadata": {},
     "output_type": "execute_result"
    }
   ],
   "source": [
    "#variance ratio\n",
    "pca_1.explained_variance_ratio_"
   ]
  },
  {
   "cell_type": "code",
   "execution_count": 45,
   "id": "a2a88b34",
   "metadata": {
    "execution": {
     "iopub.execute_input": "2023-01-24T06:04:32.870812Z",
     "iopub.status.busy": "2023-01-24T06:04:32.870136Z",
     "iopub.status.idle": "2023-01-24T06:04:32.881529Z",
     "shell.execute_reply": "2023-01-24T06:04:32.879854Z"
    },
    "papermill": {
     "duration": 0.03808,
     "end_time": "2023-01-24T06:04:32.884413",
     "exception": false,
     "start_time": "2023-01-24T06:04:32.846333",
     "status": "completed"
    },
    "tags": []
   },
   "outputs": [
    {
     "data": {
      "text/plain": [
       "array([0.22055291, 0.36451604, 0.41909699, 0.47025721, 0.51094623,\n",
       "       0.54107848, 0.56858584, 0.59184242, 0.60878398, 0.62188166,\n",
       "       0.63349775, 0.64312972, 0.65203398, 0.66060188, 0.6680337 ,\n",
       "       0.6753346 , 0.68190958, 0.68823876, 0.69447511, 0.70027946,\n",
       "       0.70543651, 0.71055249, 0.71528097, 0.71981755, 0.72420265,\n",
       "       0.72837004, 0.73232112, 0.73625371, 0.74003618, 0.74378148,\n",
       "       0.7474666 , 0.75100105, 0.75436598, 0.75766595, 0.76096116,\n",
       "       0.76415888, 0.76721903, 0.77015597, 0.77304741, 0.7758571 ,\n",
       "       0.77857691, 0.7812365 , 0.78379277, 0.78633037, 0.78878178,\n",
       "       0.79121457, 0.79360187, 0.79588285, 0.79811617, 0.80027339,\n",
       "       0.80239948, 0.80448972, 0.80651209, 0.80852647, 0.81051899,\n",
       "       0.81247134, 0.814381  , 0.81623731, 0.81805233, 0.81983431,\n",
       "       0.82159134, 0.82332494, 0.82503286, 0.82670836, 0.82832037,\n",
       "       0.82989151, 0.83143561, 0.83294181, 0.83442571, 0.83588599,\n",
       "       0.83732482, 0.83875223, 0.84017264, 0.84157092, 0.84293907,\n",
       "       0.8443034 , 0.84563962, 0.84693856, 0.84822574, 0.84948453,\n",
       "       0.85072091, 0.85192867, 0.85312892, 0.85430881, 0.85547528,\n",
       "       0.85659913, 0.85769884, 0.85879227, 0.85988127, 0.86095992,\n",
       "       0.86201205, 0.86306264, 0.86409881, 0.86510368, 0.86607595,\n",
       "       0.86703587, 0.86798906, 0.86893921, 0.86986456, 0.87077345])"
      ]
     },
     "execution_count": 45,
     "metadata": {},
     "output_type": "execute_result"
    }
   ],
   "source": [
    "np.cumsum(pca_1.explained_variance_ratio_)"
   ]
  },
  {
   "cell_type": "markdown",
   "id": "de5b1916",
   "metadata": {
    "papermill": {
     "duration": 0.021994,
     "end_time": "2023-01-24T06:04:32.928973",
     "exception": false,
     "start_time": "2023-01-24T06:04:32.906979",
     "status": "completed"
    },
    "tags": []
   },
   "source": [
    "# OPTIMUM COMPONENETS"
   ]
  },
  {
   "cell_type": "markdown",
   "id": "18b04577",
   "metadata": {
    "execution": {
     "iopub.execute_input": "2023-01-24T05:22:54.484012Z",
     "iopub.status.busy": "2023-01-24T05:22:54.482691Z",
     "iopub.status.idle": "2023-01-24T05:22:54.491692Z",
     "shell.execute_reply": "2023-01-24T05:22:54.490137Z",
     "shell.execute_reply.started": "2023-01-24T05:22:54.483967Z"
    },
    "papermill": {
     "duration": 0.021445,
     "end_time": "2023-01-24T06:04:32.972163",
     "exception": false,
     "start_time": "2023-01-24T06:04:32.950718",
     "status": "completed"
    },
    "tags": []
   },
   "source": [
    "\n",
    "From the above cummulative sum we know that 100 componenets give only 87%of variance .We have to checkfor componenents giving atleast 90%variance"
   ]
  },
  {
   "cell_type": "code",
   "execution_count": 46,
   "id": "89f5a814",
   "metadata": {
    "execution": {
     "iopub.execute_input": "2023-01-24T06:04:33.019982Z",
     "iopub.status.busy": "2023-01-24T06:04:33.019322Z",
     "iopub.status.idle": "2023-01-24T06:04:33.024329Z",
     "shell.execute_reply": "2023-01-24T06:04:33.023519Z"
    },
    "papermill": {
     "duration": 0.032797,
     "end_time": "2023-01-24T06:04:33.026604",
     "exception": false,
     "start_time": "2023-01-24T06:04:32.993807",
     "status": "completed"
    },
    "tags": []
   },
   "outputs": [],
   "source": [
    "pca=PCA(n_components=None)\n"
   ]
  },
  {
   "cell_type": "code",
   "execution_count": 47,
   "id": "3e934fd1",
   "metadata": {
    "execution": {
     "iopub.execute_input": "2023-01-24T06:04:33.072360Z",
     "iopub.status.busy": "2023-01-24T06:04:33.071705Z",
     "iopub.status.idle": "2023-01-24T06:04:42.441944Z",
     "shell.execute_reply": "2023-01-24T06:04:42.440327Z"
    },
    "papermill": {
     "duration": 9.397654,
     "end_time": "2023-01-24T06:04:42.446011",
     "exception": false,
     "start_time": "2023-01-24T06:04:33.048357",
     "status": "completed"
    },
    "tags": []
   },
   "outputs": [],
   "source": [
    "x_tr_o=pca.fit_transform(x_train_s)\n",
    "x_ts_o=pca.transform(x_test_s)"
   ]
  },
  {
   "cell_type": "code",
   "execution_count": 48,
   "id": "8e70ded0",
   "metadata": {
    "execution": {
     "iopub.execute_input": "2023-01-24T06:04:42.563032Z",
     "iopub.status.busy": "2023-01-24T06:04:42.562590Z",
     "iopub.status.idle": "2023-01-24T06:04:42.569551Z",
     "shell.execute_reply": "2023-01-24T06:04:42.568719Z"
    },
    "papermill": {
     "duration": 0.063515,
     "end_time": "2023-01-24T06:04:42.574909",
     "exception": false,
     "start_time": "2023-01-24T06:04:42.511394",
     "status": "completed"
    },
    "tags": []
   },
   "outputs": [
    {
     "data": {
      "text/plain": [
       "array([[ 3.14177725e-04,  8.81763480e-04,  1.49206212e-03, ...,\n",
       "         6.49489711e-03,  1.46716132e-03,  6.68026323e-04],\n",
       "       [ 1.79241064e-04,  1.45036119e-03,  1.15960785e-03, ...,\n",
       "         1.40848200e-02,  9.61573926e-03,  4.09093085e-03],\n",
       "       [ 1.14809416e-04,  8.58101653e-04,  1.88433735e-03, ...,\n",
       "         8.94466562e-03, -2.32700180e-03, -1.24546522e-03],\n",
       "       ...,\n",
       "       [ 3.49604092e-06,  7.67792037e-05,  9.83357791e-04, ...,\n",
       "         1.80390260e-03, -1.91753216e-03,  3.66363717e-04],\n",
       "       [ 2.96112495e-04, -1.00273362e-03,  1.03123896e-03, ...,\n",
       "         3.12421099e-03, -1.24730049e-03, -3.33434323e-04],\n",
       "       [ 1.84717584e-04, -8.57368868e-05,  1.98710725e-04, ...,\n",
       "         5.09584619e-04, -3.77880097e-06, -3.74283137e-04]])"
      ]
     },
     "execution_count": 48,
     "metadata": {},
     "output_type": "execute_result"
    }
   ],
   "source": [
    "pca.components_"
   ]
  },
  {
   "cell_type": "code",
   "execution_count": 49,
   "id": "ff9aa93f",
   "metadata": {
    "execution": {
     "iopub.execute_input": "2023-01-24T06:04:42.621489Z",
     "iopub.status.busy": "2023-01-24T06:04:42.621056Z",
     "iopub.status.idle": "2023-01-24T06:04:42.629367Z",
     "shell.execute_reply": "2023-01-24T06:04:42.627842Z"
    },
    "papermill": {
     "duration": 0.034624,
     "end_time": "2023-01-24T06:04:42.631951",
     "exception": false,
     "start_time": "2023-01-24T06:04:42.597327",
     "status": "completed"
    },
    "tags": []
   },
   "outputs": [
    {
     "data": {
      "text/plain": [
       "(784, 784)"
      ]
     },
     "execution_count": 49,
     "metadata": {},
     "output_type": "execute_result"
    }
   ],
   "source": [
    "#eigen vectors\n",
    "pca.components_.shape\n"
   ]
  },
  {
   "cell_type": "code",
   "execution_count": 50,
   "id": "88722996",
   "metadata": {
    "execution": {
     "iopub.execute_input": "2023-01-24T06:04:42.679207Z",
     "iopub.status.busy": "2023-01-24T06:04:42.678822Z",
     "iopub.status.idle": "2023-01-24T06:04:42.698963Z",
     "shell.execute_reply": "2023-01-24T06:04:42.697320Z"
    },
    "papermill": {
     "duration": 0.047367,
     "end_time": "2023-01-24T06:04:42.701640",
     "exception": false,
     "start_time": "2023-01-24T06:04:42.654273",
     "status": "completed"
    },
    "tags": []
   },
   "outputs": [
    {
     "data": {
      "text/plain": [
       "array([2.20552914e-01, 1.43963122e-01, 5.45809549e-02, 5.11602193e-02,\n",
       "       4.06890232e-02, 3.01322470e-02, 2.75073563e-02, 2.32565843e-02,\n",
       "       1.69415596e-02, 1.30976793e-02, 1.16160930e-02, 9.63197041e-03,\n",
       "       8.90425871e-03, 8.56789553e-03, 7.43181790e-03, 7.30090133e-03,\n",
       "       6.57498607e-03, 6.32918081e-03, 6.23634503e-03, 5.80435698e-03,\n",
       "       5.15704237e-03, 5.11598042e-03, 4.72848735e-03, 4.53657898e-03,\n",
       "       4.38510526e-03, 4.16739197e-03, 3.95107738e-03, 3.93259446e-03,\n",
       "       3.78248284e-03, 3.74530461e-03, 3.68512715e-03, 3.53445794e-03,\n",
       "       3.36494574e-03, 3.29998694e-03, 3.29522316e-03, 3.19772864e-03,\n",
       "       3.06023432e-03, 2.93696597e-03, 2.89148099e-03, 2.80974631e-03,\n",
       "       2.71986547e-03, 2.65963957e-03, 2.55640952e-03, 2.53769427e-03,\n",
       "       2.45153773e-03, 2.43287539e-03, 2.38740427e-03, 2.28122103e-03,\n",
       "       2.23364777e-03, 2.15739294e-03, 2.12649519e-03, 2.09055676e-03,\n",
       "       2.02269142e-03, 2.01567290e-03, 1.99324037e-03, 1.95319736e-03,\n",
       "       1.91028109e-03, 1.85771634e-03, 1.81623221e-03, 1.78242166e-03,\n",
       "       1.75753661e-03, 1.73533887e-03, 1.71016986e-03, 1.67622466e-03,\n",
       "       1.61337130e-03, 1.57425650e-03, 1.54664847e-03, 1.50994706e-03,\n",
       "       1.48741055e-03, 1.46479406e-03, 1.44441962e-03, 1.43191495e-03,\n",
       "       1.42582328e-03, 1.40279391e-03, 1.37438096e-03, 1.37042673e-03,\n",
       "       1.34223856e-03, 1.30686968e-03, 1.29982904e-03, 1.27390189e-03,\n",
       "       1.25073267e-03, 1.22593146e-03, 1.21133045e-03, 1.19765198e-03,\n",
       "       1.18589803e-03, 1.14208213e-03, 1.13520681e-03, 1.12241866e-03,\n",
       "       1.10972374e-03, 1.10209549e-03, 1.09098800e-03, 1.07536355e-03,\n",
       "       1.06999729e-03, 1.04610112e-03, 1.02425861e-03, 1.00227547e-03,\n",
       "       9.97497685e-04, 9.84858840e-04, 9.68788797e-04, 9.54536890e-04,\n",
       "       9.52603810e-04, 9.39613906e-04, 9.33694877e-04, 9.14796794e-04,\n",
       "       9.06053434e-04, 9.00635030e-04, 8.87377443e-04, 8.82542653e-04,\n",
       "       8.68237926e-04, 8.56448177e-04, 8.50033131e-04, 8.40682813e-04,\n",
       "       8.25334047e-04, 8.19982923e-04, 8.09571359e-04, 8.01736957e-04,\n",
       "       7.95672041e-04, 7.89887155e-04, 7.85154525e-04, 7.73847732e-04,\n",
       "       7.60628764e-04, 7.60071376e-04, 7.54980665e-04, 7.42355966e-04,\n",
       "       7.40058712e-04, 7.26197765e-04, 7.21011780e-04, 7.08003058e-04,\n",
       "       7.04021888e-04, 7.00416482e-04, 6.93966789e-04, 6.87131443e-04,\n",
       "       6.81276941e-04, 6.64308694e-04, 6.59834744e-04, 6.53305342e-04,\n",
       "       6.43389592e-04, 6.35836149e-04, 6.34711142e-04, 6.28011036e-04,\n",
       "       6.24875993e-04, 6.21619930e-04, 6.12785402e-04, 6.02370317e-04,\n",
       "       5.98426200e-04, 5.89128941e-04, 5.86945487e-04, 5.84885529e-04,\n",
       "       5.78052114e-04, 5.74493800e-04, 5.72903907e-04, 5.69327908e-04,\n",
       "       5.60493966e-04, 5.58654350e-04, 5.50955957e-04, 5.48900337e-04,\n",
       "       5.44392187e-04, 5.37876802e-04, 5.33505133e-04, 5.26916591e-04,\n",
       "       5.24664422e-04, 5.21393988e-04, 5.12845263e-04, 5.09963677e-04,\n",
       "       5.05031143e-04, 5.00367985e-04, 4.98905658e-04, 4.97145036e-04,\n",
       "       4.90902921e-04, 4.86462049e-04, 4.82166604e-04, 4.78189135e-04,\n",
       "       4.77704113e-04, 4.71195612e-04, 4.69112590e-04, 4.63651387e-04,\n",
       "       4.63478120e-04, 4.61916289e-04, 4.56122473e-04, 4.53779333e-04,\n",
       "       4.49534718e-04, 4.45386008e-04, 4.43368614e-04, 4.41250953e-04,\n",
       "       4.37116932e-04, 4.31077396e-04, 4.26836960e-04, 4.22949352e-04,\n",
       "       4.21193414e-04, 4.16345171e-04, 4.14829124e-04, 4.10360993e-04,\n",
       "       4.06776691e-04, 4.03314558e-04, 4.00201791e-04, 3.98305861e-04,\n",
       "       3.97546610e-04, 3.93097184e-04, 3.91621729e-04, 3.88763670e-04,\n",
       "       3.85678668e-04, 3.84669348e-04, 3.82067601e-04, 3.77258753e-04,\n",
       "       3.74853355e-04, 3.72431001e-04, 3.71445205e-04, 3.65871242e-04,\n",
       "       3.61679279e-04, 3.60366961e-04, 3.59477591e-04, 3.56432056e-04,\n",
       "       3.54491355e-04, 3.53504789e-04, 3.50426520e-04, 3.48912178e-04,\n",
       "       3.47406991e-04, 3.44924907e-04, 3.41456733e-04, 3.38588356e-04,\n",
       "       3.38125124e-04, 3.35509077e-04, 3.34263386e-04, 3.32207961e-04,\n",
       "       3.30564651e-04, 3.27982721e-04, 3.25924753e-04, 3.23729484e-04,\n",
       "       3.22637439e-04, 3.20345441e-04, 3.15711038e-04, 3.13448561e-04,\n",
       "       3.12176953e-04, 3.11234049e-04, 3.10931915e-04, 3.07023875e-04,\n",
       "       3.06013085e-04, 3.03216372e-04, 3.01728201e-04, 2.98019880e-04,\n",
       "       2.96933477e-04, 2.95823014e-04, 2.95565050e-04, 2.91737773e-04,\n",
       "       2.89415177e-04, 2.88466461e-04, 2.86652107e-04, 2.85197977e-04,\n",
       "       2.83793957e-04, 2.81234526e-04, 2.80328302e-04, 2.77335502e-04,\n",
       "       2.76200311e-04, 2.74887433e-04, 2.74300175e-04, 2.72338132e-04,\n",
       "       2.71189034e-04, 2.70279303e-04, 2.68049688e-04, 2.65823187e-04,\n",
       "       2.64361325e-04, 2.62211560e-04, 2.60945337e-04, 2.60260714e-04,\n",
       "       2.58817750e-04, 2.57283732e-04, 2.55978608e-04, 2.55174919e-04,\n",
       "       2.54326581e-04, 2.52981838e-04, 2.49979596e-04, 2.48466732e-04,\n",
       "       2.47558329e-04, 2.45805454e-04, 2.44601013e-04, 2.42696880e-04,\n",
       "       2.41304139e-04, 2.41151341e-04, 2.40134950e-04, 2.37320570e-04,\n",
       "       2.36368542e-04, 2.35223331e-04, 2.34597827e-04, 2.32789797e-04,\n",
       "       2.31038717e-04, 2.30702747e-04, 2.29073325e-04, 2.28627015e-04,\n",
       "       2.27899248e-04, 2.27242337e-04, 2.24819006e-04, 2.23647718e-04,\n",
       "       2.22410533e-04, 2.21785958e-04, 2.20735174e-04, 2.19002336e-04,\n",
       "       2.17080455e-04, 2.15335566e-04, 2.14759705e-04, 2.13720324e-04,\n",
       "       2.13408642e-04, 2.11990262e-04, 2.10773240e-04, 2.10035784e-04,\n",
       "       2.09262423e-04, 2.08206637e-04, 2.06987608e-04, 2.06155184e-04,\n",
       "       2.04416689e-04, 2.03704789e-04, 2.02480365e-04, 2.02442312e-04,\n",
       "       1.99838496e-04, 1.98728570e-04, 1.98388879e-04, 1.97451027e-04,\n",
       "       1.96254481e-04, 1.94964944e-04, 1.93830542e-04, 1.93218551e-04,\n",
       "       1.92430722e-04, 1.91006049e-04, 1.90846317e-04, 1.89925028e-04,\n",
       "       1.87898617e-04, 1.86871294e-04, 1.85630820e-04, 1.84713762e-04,\n",
       "       1.84332018e-04, 1.83418234e-04, 1.82736214e-04, 1.81010055e-04,\n",
       "       1.80312672e-04, 1.80176364e-04, 1.78759130e-04, 1.77355921e-04,\n",
       "       1.76707842e-04, 1.75088174e-04, 1.74806992e-04, 1.74300795e-04,\n",
       "       1.72565304e-04, 1.71889564e-04, 1.70741905e-04, 1.70306606e-04,\n",
       "       1.69621015e-04, 1.68809905e-04, 1.66646923e-04, 1.66362873e-04,\n",
       "       1.65636176e-04, 1.64860809e-04, 1.64620675e-04, 1.63737402e-04,\n",
       "       1.63359428e-04, 1.62797352e-04, 1.62507423e-04, 1.60736631e-04,\n",
       "       1.59350821e-04, 1.58783159e-04, 1.57863471e-04, 1.57335615e-04,\n",
       "       1.56638188e-04, 1.55690327e-04, 1.54850316e-04, 1.54323774e-04,\n",
       "       1.53489354e-04, 1.52388929e-04, 1.52152686e-04, 1.51085633e-04,\n",
       "       1.50366618e-04, 1.49303695e-04, 1.48560010e-04, 1.48361421e-04,\n",
       "       1.47363723e-04, 1.46632505e-04, 1.45803621e-04, 1.45259299e-04,\n",
       "       1.44683400e-04, 1.44320560e-04, 1.43665515e-04, 1.43281129e-04,\n",
       "       1.42280652e-04, 1.41706095e-04, 1.41373882e-04, 1.40553571e-04,\n",
       "       1.40412809e-04, 1.39810260e-04, 1.39199849e-04, 1.38635568e-04,\n",
       "       1.38151565e-04, 1.36694342e-04, 1.35983898e-04, 1.35067308e-04,\n",
       "       1.34328697e-04, 1.33866305e-04, 1.33404336e-04, 1.32745008e-04,\n",
       "       1.31641967e-04, 1.31067437e-04, 1.30616311e-04, 1.30256242e-04,\n",
       "       1.29645494e-04, 1.28855196e-04, 1.28467476e-04, 1.27710280e-04,\n",
       "       1.26912417e-04, 1.26711540e-04, 1.25877720e-04, 1.25130281e-04,\n",
       "       1.25000955e-04, 1.23837704e-04, 1.23494633e-04, 1.23126838e-04,\n",
       "       1.22299916e-04, 1.22011283e-04, 1.21285639e-04, 1.20811128e-04,\n",
       "       1.20288835e-04, 1.19780707e-04, 1.18922194e-04, 1.18543262e-04,\n",
       "       1.18126499e-04, 1.17727556e-04, 1.17618687e-04, 1.16621378e-04,\n",
       "       1.16323486e-04, 1.15735220e-04, 1.15166316e-04, 1.14747571e-04,\n",
       "       1.14394932e-04, 1.13263548e-04, 1.12809541e-04, 1.12408629e-04,\n",
       "       1.11986528e-04, 1.11256448e-04, 1.10940696e-04, 1.10787752e-04,\n",
       "       1.10035661e-04, 1.09292437e-04, 1.08976956e-04, 1.07922489e-04,\n",
       "       1.07623472e-04, 1.07011569e-04, 1.06343360e-04, 1.06137322e-04,\n",
       "       1.06043196e-04, 1.05306603e-04, 1.04508816e-04, 1.04201485e-04,\n",
       "       1.04176144e-04, 1.03527752e-04, 1.03113121e-04, 1.02623978e-04,\n",
       "       1.02166330e-04, 1.01766617e-04, 1.01155346e-04, 1.01038219e-04,\n",
       "       1.00630718e-04, 1.00266642e-04, 9.98509603e-05, 9.90918676e-05,\n",
       "       9.86167211e-05, 9.79934804e-05, 9.72813573e-05, 9.71881680e-05,\n",
       "       9.67622269e-05, 9.63702319e-05, 9.57087156e-05, 9.54009333e-05,\n",
       "       9.50905208e-05, 9.43555474e-05, 9.40761561e-05, 9.38396672e-05,\n",
       "       9.32786812e-05, 9.30189643e-05, 9.24124690e-05, 9.23497320e-05,\n",
       "       9.18658401e-05, 9.16484728e-05, 9.12874659e-05, 9.05859953e-05,\n",
       "       9.02239964e-05, 8.97129843e-05, 8.95234270e-05, 8.92284957e-05,\n",
       "       8.85426734e-05, 8.75890575e-05, 8.74467123e-05, 8.72132383e-05,\n",
       "       8.70162453e-05, 8.65839160e-05, 8.58326843e-05, 8.52878955e-05,\n",
       "       8.49223610e-05, 8.43814355e-05, 8.39912514e-05, 8.37224257e-05,\n",
       "       8.35185742e-05, 8.33093105e-05, 8.31062687e-05, 8.26409293e-05,\n",
       "       8.24341077e-05, 8.18822228e-05, 8.15198563e-05, 8.12672820e-05,\n",
       "       8.06404583e-05, 8.04485390e-05, 8.00993817e-05, 7.97903230e-05,\n",
       "       7.94034717e-05, 7.88489910e-05, 7.84980191e-05, 7.81702341e-05,\n",
       "       7.81051247e-05, 7.77280211e-05, 7.72348737e-05, 7.67437281e-05,\n",
       "       7.66216874e-05, 7.60164090e-05, 7.53433781e-05, 7.50579068e-05,\n",
       "       7.47070985e-05, 7.44231476e-05, 7.41312101e-05, 7.38439291e-05,\n",
       "       7.35564111e-05, 7.34052529e-05, 7.28879450e-05, 7.24964885e-05,\n",
       "       7.24394531e-05, 7.18935698e-05, 7.16789950e-05, 7.15401406e-05,\n",
       "       7.11174635e-05, 7.08873680e-05, 7.05735513e-05, 7.03361789e-05,\n",
       "       6.98113189e-05, 6.96594893e-05, 6.88402487e-05, 6.87920176e-05,\n",
       "       6.82448806e-05, 6.81799195e-05, 6.75924917e-05, 6.73049782e-05,\n",
       "       6.72166259e-05, 6.67425128e-05, 6.64494131e-05, 6.61755259e-05,\n",
       "       6.59205590e-05, 6.53556581e-05, 6.51612289e-05, 6.48895076e-05,\n",
       "       6.46721798e-05, 6.45106254e-05, 6.41146077e-05, 6.37788045e-05,\n",
       "       6.35396312e-05, 6.32807732e-05, 6.28816831e-05, 6.24823715e-05,\n",
       "       6.21410399e-05, 6.18083678e-05, 6.16972914e-05, 6.11991416e-05,\n",
       "       6.10689997e-05, 6.07023332e-05, 6.03382138e-05, 5.99820993e-05,\n",
       "       5.95737020e-05, 5.95476702e-05, 5.93161498e-05, 5.90347752e-05,\n",
       "       5.87190787e-05, 5.84379094e-05, 5.82188187e-05, 5.79102055e-05,\n",
       "       5.77822448e-05, 5.73946578e-05, 5.71826565e-05, 5.66133074e-05,\n",
       "       5.64250271e-05, 5.61992902e-05, 5.58929263e-05, 5.56745434e-05,\n",
       "       5.55421018e-05, 5.49946334e-05, 5.46822992e-05, 5.44432197e-05,\n",
       "       5.41895619e-05, 5.37267301e-05, 5.33624324e-05, 5.30949173e-05,\n",
       "       5.29772015e-05, 5.26199388e-05, 5.20272478e-05, 5.18719393e-05,\n",
       "       5.15290472e-05, 5.12577590e-05, 5.10432368e-05, 5.09366315e-05,\n",
       "       5.07799575e-05, 5.04509775e-05, 5.03572941e-05, 4.99081880e-05,\n",
       "       4.95246372e-05, 4.93097114e-05, 4.91313149e-05, 4.88490532e-05,\n",
       "       4.84119480e-05, 4.83045491e-05, 4.78941668e-05, 4.75596434e-05,\n",
       "       4.74414697e-05, 4.73599835e-05, 4.71439734e-05, 4.63620209e-05,\n",
       "       4.62366770e-05, 4.61707320e-05, 4.59068209e-05, 4.56188425e-05,\n",
       "       4.55064936e-05, 4.51110377e-05, 4.49419793e-05, 4.47271891e-05,\n",
       "       4.45268585e-05, 4.42738260e-05, 4.39409442e-05, 4.37790843e-05,\n",
       "       4.36302701e-05, 4.33347178e-05, 4.30519860e-05, 4.27786562e-05,\n",
       "       4.26413529e-05, 4.22265015e-05, 4.20896854e-05, 4.18728315e-05,\n",
       "       4.15234535e-05, 4.13564245e-05, 4.11146971e-05, 4.07662862e-05,\n",
       "       4.05909895e-05, 4.03992212e-05, 4.02195534e-05, 3.99619033e-05,\n",
       "       3.98990924e-05, 3.96205462e-05, 3.93045608e-05, 3.90411128e-05,\n",
       "       3.89254811e-05, 3.86643760e-05, 3.85759014e-05, 3.81966082e-05,\n",
       "       3.80581314e-05, 3.77388695e-05, 3.75240734e-05, 3.73084737e-05,\n",
       "       3.71714598e-05, 3.69619017e-05, 3.67734900e-05, 3.63817468e-05,\n",
       "       3.62012750e-05, 3.57777012e-05, 3.56317262e-05, 3.54447705e-05,\n",
       "       3.53280184e-05, 3.52277619e-05, 3.50233790e-05, 3.47694581e-05,\n",
       "       3.45582160e-05, 3.44639810e-05, 3.41652575e-05, 3.39717711e-05,\n",
       "       3.38802274e-05, 3.36924149e-05, 3.35199582e-05, 3.32001712e-05,\n",
       "       3.30979263e-05, 3.27783739e-05, 3.21156426e-05, 3.17610656e-05,\n",
       "       3.17334402e-05, 3.15766239e-05, 3.13766859e-05, 3.11552196e-05,\n",
       "       3.10483926e-05, 3.07301784e-05, 3.06160327e-05, 3.02729160e-05,\n",
       "       3.00108106e-05, 2.98815409e-05, 2.98206634e-05, 2.95872907e-05,\n",
       "       2.93663933e-05, 2.89225612e-05, 2.87560424e-05, 2.86641407e-05,\n",
       "       2.85328815e-05, 2.83672075e-05, 2.82194919e-05, 2.79522195e-05,\n",
       "       2.77190904e-05, 2.73442925e-05, 2.70066706e-05, 2.68608230e-05,\n",
       "       2.67801159e-05, 2.64378364e-05, 2.63581119e-05, 2.59552135e-05,\n",
       "       2.59357858e-05, 2.55561068e-05, 2.55108896e-05, 2.54229183e-05,\n",
       "       2.52168569e-05, 2.49201437e-05, 2.47552292e-05, 2.46345362e-05,\n",
       "       2.43726463e-05, 2.42136828e-05, 2.38704581e-05, 2.36487735e-05,\n",
       "       2.36016296e-05, 2.33617666e-05, 2.30460561e-05, 2.28481281e-05,\n",
       "       2.27987016e-05, 2.23699914e-05, 2.21888661e-05, 2.20169912e-05,\n",
       "       2.17696500e-05, 2.17260089e-05, 2.14244259e-05, 2.12475388e-05,\n",
       "       2.09711951e-05, 2.06248262e-05, 2.03774098e-05, 2.03031372e-05,\n",
       "       2.01930269e-05, 1.97792748e-05, 1.96255869e-05, 1.93806669e-05,\n",
       "       1.92156056e-05, 1.90846575e-05, 1.88505686e-05, 1.86881254e-05,\n",
       "       1.84732193e-05, 1.84231984e-05, 1.81412604e-05, 1.76924331e-05,\n",
       "       1.76265005e-05, 1.73862711e-05, 1.72542338e-05, 1.71646201e-05,\n",
       "       1.70037970e-05, 1.63735437e-05, 1.63097080e-05, 1.61042984e-05,\n",
       "       1.56070944e-05, 1.55220588e-05, 1.50244286e-05, 1.49122366e-05,\n",
       "       1.47343440e-05, 1.45816453e-05, 1.43728373e-05, 1.42282450e-05,\n",
       "       1.38094460e-05, 1.36666908e-05, 1.34397087e-05, 1.28138889e-05,\n",
       "       1.26352055e-05, 1.25447246e-05, 1.19663937e-05, 1.17001161e-05,\n",
       "       1.14043019e-05, 1.07973543e-05, 1.05154602e-05, 1.04237577e-05,\n",
       "       9.93795035e-06, 9.59618201e-06, 9.13232871e-06, 8.79046746e-06,\n",
       "       8.53143050e-06, 7.81911665e-06, 6.97290531e-06, 5.85384049e-06])"
      ]
     },
     "execution_count": 50,
     "metadata": {},
     "output_type": "execute_result"
    }
   ],
   "source": [
    "#variation\n",
    "pca.explained_variance_ratio_"
   ]
  },
  {
   "cell_type": "code",
   "execution_count": 51,
   "id": "ac42e2d8",
   "metadata": {
    "execution": {
     "iopub.execute_input": "2023-01-24T06:04:42.758710Z",
     "iopub.status.busy": "2023-01-24T06:04:42.757245Z",
     "iopub.status.idle": "2023-01-24T06:04:42.778067Z",
     "shell.execute_reply": "2023-01-24T06:04:42.776269Z"
    },
    "papermill": {
     "duration": 0.051198,
     "end_time": "2023-01-24T06:04:42.781209",
     "exception": false,
     "start_time": "2023-01-24T06:04:42.730011",
     "status": "completed"
    },
    "tags": []
   },
   "outputs": [
    {
     "data": {
      "text/plain": [
       "array([0.22055291, 0.36451604, 0.41909699, 0.47025721, 0.51094623,\n",
       "       0.54107848, 0.56858584, 0.59184242, 0.60878398, 0.62188166,\n",
       "       0.63349775, 0.64312972, 0.65203398, 0.66060188, 0.6680337 ,\n",
       "       0.6753346 , 0.68190958, 0.68823876, 0.69447511, 0.70027947,\n",
       "       0.70543651, 0.71055249, 0.71528098, 0.71981755, 0.72420266,\n",
       "       0.72837005, 0.73232113, 0.73625372, 0.74003621, 0.74378151,\n",
       "       0.74746664, 0.7510011 , 0.75436604, 0.75766603, 0.76096125,\n",
       "       0.76415898, 0.76721922, 0.77015618, 0.77304766, 0.77585741,\n",
       "       0.77857727, 0.78123691, 0.78379332, 0.78633102, 0.78878255,\n",
       "       0.79121543, 0.79360283, 0.79588406, 0.7981177 , 0.8002751 ,\n",
       "       0.80240159, 0.80449215, 0.80651484, 0.80853051, 0.81052375,\n",
       "       0.81247695, 0.81438723, 0.81624495, 0.81806118, 0.8198436 ,\n",
       "       0.82160114, 0.82333648, 0.82504665, 0.82672287, 0.82833624,\n",
       "       0.8299105 , 0.83145715, 0.83296709, 0.83445451, 0.8359193 ,\n",
       "       0.83736372, 0.83879563, 0.84022146, 0.84162425, 0.84299863,\n",
       "       0.84436906, 0.8457113 , 0.84701817, 0.848318  , 0.8495919 ,\n",
       "       0.85084263, 0.85206856, 0.85327989, 0.85447754, 0.85566344,\n",
       "       0.85680552, 0.85794073, 0.85906315, 0.86017287, 0.86127497,\n",
       "       0.86236596, 0.86344132, 0.86451132, 0.86555742, 0.86658168,\n",
       "       0.86758395, 0.86858145, 0.86956631, 0.8705351 , 0.87148964,\n",
       "       0.87244224, 0.87338185, 0.87431555, 0.87523035, 0.8761364 ,\n",
       "       0.87703703, 0.87792441, 0.87880695, 0.87967519, 0.88053164,\n",
       "       0.88138167, 0.88222236, 0.88304769, 0.88386767, 0.88467724,\n",
       "       0.88547898, 0.88627465, 0.88706454, 0.88784969, 0.88862354,\n",
       "       0.88938417, 0.89014424, 0.89089922, 0.89164158, 0.89238164,\n",
       "       0.89310784, 0.89382885, 0.89453685, 0.89524087, 0.89594129,\n",
       "       0.89663526, 0.89732239, 0.89800366, 0.89866797, 0.89932781,\n",
       "       0.89998111, 0.9006245 , 0.90126034, 0.90189505, 0.90252306,\n",
       "       0.90314794, 0.90376956, 0.90438234, 0.90498471, 0.90558314,\n",
       "       0.90617227, 0.90675921, 0.9073441 , 0.90792215, 0.90849664,\n",
       "       0.90906955, 0.90963888, 0.91019937, 0.91075802, 0.91130898,\n",
       "       0.91185788, 0.91240227, 0.91294015, 0.91347366, 0.91400057,\n",
       "       0.91452524, 0.91504663, 0.91555948, 0.91606944, 0.91657447,\n",
       "       0.91707484, 0.91757374, 0.91807089, 0.91856179, 0.91904825,\n",
       "       0.91953042, 0.92000861, 0.92048631, 0.92095751, 0.92142662,\n",
       "       0.92189027, 0.92235375, 0.92281567, 0.92327179, 0.92372557,\n",
       "       0.9241751 , 0.92462049, 0.92506386, 0.92550511, 0.92594223,\n",
       "       0.9263733 , 0.92680014, 0.92722309, 0.92764428, 0.92806063,\n",
       "       0.92847546, 0.92888582, 0.9292926 , 0.92969591, 0.93009611,\n",
       "       0.93049442, 0.93089196, 0.93128506, 0.93167668, 0.93206545,\n",
       "       0.93245113, 0.9328358 , 0.93321786, 0.93359512, 0.93396997,\n",
       "       0.93434241, 0.93471385, 0.93507972, 0.9354414 , 0.93580177,\n",
       "       0.93616125, 0.93651768, 0.93687217, 0.93722567, 0.9375761 ,\n",
       "       0.93792501, 0.93827242, 0.93861735, 0.9389588 , 0.93929739,\n",
       "       0.93963552, 0.93997102, 0.94030529, 0.9406375 , 0.94096806,\n",
       "       0.94129604, 0.94162197, 0.9419457 , 0.94226833, 0.94258868,\n",
       "       0.94290439, 0.94321784, 0.94353002, 0.94384125, 0.94415218,\n",
       "       0.94445921, 0.94476522, 0.94506844, 0.94537016, 0.94566818,\n",
       "       0.94596512, 0.94626094, 0.94655651, 0.94684824, 0.94713766,\n",
       "       0.94742613, 0.94771278, 0.94799798, 0.94828177, 0.948563  ,\n",
       "       0.94884333, 0.94912067, 0.94939687, 0.94967176, 0.94994606,\n",
       "       0.95021839, 0.95048958, 0.95075986, 0.95102791, 0.95129373,\n",
       "       0.9515581 , 0.95182031, 0.95208125, 0.95234151, 0.95260033,\n",
       "       0.95285762, 0.95311359, 0.95336877, 0.9536231 , 0.95387608,\n",
       "       0.95412606, 0.95437452, 0.95462208, 0.95486789, 0.95511249,\n",
       "       0.95535519, 0.95559649, 0.95583764, 0.95607778, 0.9563151 ,\n",
       "       0.95655146, 0.95678669, 0.95702129, 0.95725408, 0.95748511,\n",
       "       0.95771582, 0.95794489, 0.95817352, 0.95840142, 0.95862866,\n",
       "       0.95885348, 0.95907713, 0.95929954, 0.95952132, 0.95974206,\n",
       "       0.95996106, 0.96017814, 0.96039348, 0.96060824, 0.96082196,\n",
       "       0.96103536, 0.96124735, 0.96145813, 0.96166816, 0.96187743,\n",
       "       0.96208563, 0.96229262, 0.96249878, 0.96270319, 0.9629069 ,\n",
       "       0.96310938, 0.96331182, 0.96351166, 0.96371039, 0.96390878,\n",
       "       0.96410623, 0.96430248, 0.96449745, 0.96469128, 0.9648845 ,\n",
       "       0.96507693, 0.96526793, 0.96545878, 0.9656487 , 0.9658366 ,\n",
       "       0.96602347, 0.9662091 , 0.96639382, 0.96657815, 0.96676157,\n",
       "       0.9669443 , 0.96712531, 0.96730563, 0.9674858 , 0.96766456,\n",
       "       0.96784192, 0.96801863, 0.96819371, 0.96836852, 0.96854282,\n",
       "       0.96871539, 0.96888728, 0.96905802, 0.96922833, 0.96939795,\n",
       "       0.96956676, 0.9697334 , 0.96989977, 0.9700654 , 0.97023026,\n",
       "       0.97039488, 0.97055862, 0.97072198, 0.97088478, 0.97104729,\n",
       "       0.97120802, 0.97136737, 0.97152616, 0.97168402, 0.97184136,\n",
       "       0.97199799, 0.97215368, 0.97230853, 0.97246286, 0.97261635,\n",
       "       0.97276874, 0.97292089, 0.97307197, 0.97322234, 0.97337164,\n",
       "       0.9735202 , 0.97366857, 0.97381593, 0.97396256, 0.97410837,\n",
       "       0.97425363, 0.97439831, 0.97454263, 0.97468629, 0.97482958,\n",
       "       0.97497186, 0.97511356, 0.97525494, 0.97539549, 0.9755359 ,\n",
       "       0.97567571, 0.97581491, 0.97595355, 0.9760917 , 0.97622839,\n",
       "       0.97636438, 0.97649945, 0.97663377, 0.97676764, 0.97690105,\n",
       "       0.97703379, 0.97716543, 0.9772965 , 0.97742712, 0.97755737,\n",
       "       0.97768702, 0.97781587, 0.97794434, 0.97807205, 0.97819896,\n",
       "       0.97832567, 0.97845155, 0.97857668, 0.97870168, 0.97882552,\n",
       "       0.97894902, 0.97907214, 0.97919444, 0.97931645, 0.97943774,\n",
       "       0.97955855, 0.97967884, 0.97979862, 0.97991754, 0.98003609,\n",
       "       0.98015421, 0.98027194, 0.98038956, 0.98050618, 0.9806225 ,\n",
       "       0.98073824, 0.9808534 , 0.98096815, 0.98108255, 0.98119581,\n",
       "       0.98130862, 0.98142103, 0.98153302, 0.98164427, 0.98175521,\n",
       "       0.981866  , 0.98197604, 0.98208533, 0.98219431, 0.98230223,\n",
       "       0.98240985, 0.98251686, 0.98262321, 0.98272934, 0.98283539,\n",
       "       0.98294069, 0.9830452 , 0.9831494 , 0.98325358, 0.98335711,\n",
       "       0.98346022, 0.98356284, 0.98366501, 0.98376678, 0.98386793,\n",
       "       0.98396897, 0.9840696 , 0.98416987, 0.98426972, 0.98436881,\n",
       "       0.98446743, 0.98456542, 0.9846627 , 0.98475989, 0.98485665,\n",
       "       0.98495302, 0.98504873, 0.98514413, 0.98523922, 0.98533358,\n",
       "       0.98542766, 0.9855215 , 0.98561477, 0.98570779, 0.98580021,\n",
       "       0.98589255, 0.98598442, 0.98607607, 0.98616736, 0.98625794,\n",
       "       0.98634817, 0.98643788, 0.9865274 , 0.98661663, 0.98670517,\n",
       "       0.98679276, 0.98688021, 0.98696742, 0.98705444, 0.98714102,\n",
       "       0.98722686, 0.98731214, 0.98739707, 0.98748145, 0.98756544,\n",
       "       0.98764916, 0.98773268, 0.98781599, 0.9878991 , 0.98798174,\n",
       "       0.98806417, 0.98814605, 0.98822757, 0.98830884, 0.98838948,\n",
       "       0.98846993, 0.98855003, 0.98862982, 0.98870922, 0.98878807,\n",
       "       0.98886657, 0.98894474, 0.98902284, 0.98910057, 0.98917781,\n",
       "       0.98925455, 0.98933117, 0.98940719, 0.98948253, 0.98955759,\n",
       "       0.9896323 , 0.98970672, 0.98978085, 0.9898547 , 0.98992825,\n",
       "       0.99000166, 0.99007455, 0.99014704, 0.99021948, 0.99029138,\n",
       "       0.99036305, 0.99043459, 0.99050571, 0.9905766 , 0.99064717,\n",
       "       0.99071751, 0.99078732, 0.99085698, 0.99092582, 0.99099461,\n",
       "       0.99106286, 0.99113104, 0.99119863, 0.99126593, 0.99133315,\n",
       "       0.99139989, 0.99146634, 0.99153252, 0.99159844, 0.99166379,\n",
       "       0.99172896, 0.99179385, 0.99185852, 0.99192303, 0.99198714,\n",
       "       0.99205092, 0.99211446, 0.99217774, 0.99224062, 0.99230311,\n",
       "       0.99236525, 0.99242706, 0.99248875, 0.99254995, 0.99261102,\n",
       "       0.99267172, 0.99273206, 0.99279204, 0.99285162, 0.99291116,\n",
       "       0.99297048, 0.99302952, 0.99308823, 0.99314667, 0.99320489,\n",
       "       0.9932628 , 0.99332058, 0.99337798, 0.99343516, 0.99349177,\n",
       "       0.9935482 , 0.9936044 , 0.99366029, 0.99371597, 0.99377151,\n",
       "       0.9938265 , 0.99388119, 0.99393563, 0.99398982, 0.99404354,\n",
       "       0.99409691, 0.99415   , 0.99420298, 0.9942556 , 0.99430763,\n",
       "       0.9943595 , 0.99441103, 0.99446229, 0.99451333, 0.99456427,\n",
       "       0.99461505, 0.9946655 , 0.99471585, 0.99476576, 0.99481529,\n",
       "       0.9948646 , 0.99491373, 0.99496258, 0.99501099, 0.99505929,\n",
       "       0.99510719, 0.99515475, 0.99520219, 0.99524955, 0.99529669,\n",
       "       0.99534305, 0.99538929, 0.99543546, 0.99548137, 0.99552699,\n",
       "       0.99557249, 0.9956176 , 0.99566255, 0.99570727, 0.9957518 ,\n",
       "       0.99579607, 0.99584002, 0.99588379, 0.99592742, 0.99597076,\n",
       "       0.99601381, 0.99605659, 0.99609923, 0.99614146, 0.99618355,\n",
       "       0.99622542, 0.99626694, 0.9963083 , 0.99634942, 0.99639018,\n",
       "       0.99643077, 0.99647117, 0.99651139, 0.99655135, 0.99659125,\n",
       "       0.99663087, 0.99667018, 0.99670922, 0.99674814, 0.99678681,\n",
       "       0.99682538, 0.99686358, 0.99690164, 0.99693938, 0.9969769 ,\n",
       "       0.99701421, 0.99705138, 0.99708834, 0.99712512, 0.9971615 ,\n",
       "       0.9971977 , 0.99723348, 0.99726911, 0.99730455, 0.99733988,\n",
       "       0.99737511, 0.99741013, 0.9974449 , 0.99747946, 0.99751393,\n",
       "       0.99754809, 0.99758206, 0.99761594, 0.99764963, 0.99768315,\n",
       "       0.99771635, 0.99774945, 0.99778223, 0.99781435, 0.99784611,\n",
       "       0.99787784, 0.99790942, 0.99794079, 0.99797195, 0.998003  ,\n",
       "       0.99803373, 0.99806434, 0.99809462, 0.99812463, 0.99815451,\n",
       "       0.99818433, 0.99821392, 0.99824328, 0.99827221, 0.99830096,\n",
       "       0.99832963, 0.99835816, 0.99838653, 0.99841475, 0.9984427 ,\n",
       "       0.99847042, 0.99849776, 0.99852477, 0.99855163, 0.99857841,\n",
       "       0.99860485, 0.99863121, 0.99865716, 0.9986831 , 0.99870865,\n",
       "       0.99873416, 0.99875959, 0.9987848 , 0.99880972, 0.99883448,\n",
       "       0.99885911, 0.99888349, 0.9989077 , 0.99893157, 0.99895522,\n",
       "       0.99897882, 0.99900218, 0.99902523, 0.99904808, 0.99907088,\n",
       "       0.99909325, 0.99911543, 0.99913745, 0.99915922, 0.99918095,\n",
       "       0.99920237, 0.99922362, 0.99924459, 0.99926521, 0.99928559,\n",
       "       0.9993059 , 0.99932609, 0.99934587, 0.99936549, 0.99938487,\n",
       "       0.99940409, 0.99942317, 0.99944202, 0.99946071, 0.99947919,\n",
       "       0.99949761, 0.99951575, 0.99953344, 0.99955107, 0.99956846,\n",
       "       0.99958571, 0.99960287, 0.99961988, 0.99963625, 0.99965256,\n",
       "       0.99966867, 0.99968427, 0.99969979, 0.99971482, 0.99972973,\n",
       "       0.99974447, 0.99975905, 0.99977342, 0.99978765, 0.99980146,\n",
       "       0.99981512, 0.99982856, 0.99984138, 0.99985401, 0.99986656,\n",
       "       0.99987852, 0.99989022, 0.99990163, 0.99991243, 0.99992294,\n",
       "       0.99993337, 0.9999433 , 0.9999529 , 0.99996203, 0.99997082,\n",
       "       0.99997935, 0.99998717, 0.99999415, 1.        ])"
      ]
     },
     "execution_count": 51,
     "metadata": {},
     "output_type": "execute_result"
    }
   ],
   "source": [
    "np.cumsum(pca.explained_variance_ratio_)"
   ]
  },
  {
   "cell_type": "code",
   "execution_count": 52,
   "id": "c22a3a02",
   "metadata": {
    "execution": {
     "iopub.execute_input": "2023-01-24T06:04:42.832638Z",
     "iopub.status.busy": "2023-01-24T06:04:42.831765Z",
     "iopub.status.idle": "2023-01-24T06:04:42.837352Z",
     "shell.execute_reply": "2023-01-24T06:04:42.836463Z"
    },
    "papermill": {
     "duration": 0.034039,
     "end_time": "2023-01-24T06:04:42.840013",
     "exception": false,
     "start_time": "2023-01-24T06:04:42.805974",
     "status": "completed"
    },
    "tags": []
   },
   "outputs": [],
   "source": [
    "y=np.cumsum(pca.explained_variance_ratio_)"
   ]
  },
  {
   "cell_type": "code",
   "execution_count": 53,
   "id": "6a9c53a2",
   "metadata": {
    "execution": {
     "iopub.execute_input": "2023-01-24T06:04:42.893549Z",
     "iopub.status.busy": "2023-01-24T06:04:42.893108Z",
     "iopub.status.idle": "2023-01-24T06:04:42.900788Z",
     "shell.execute_reply": "2023-01-24T06:04:42.898558Z"
    },
    "papermill": {
     "duration": 0.037139,
     "end_time": "2023-01-24T06:04:42.904166",
     "exception": false,
     "start_time": "2023-01-24T06:04:42.867027",
     "status": "completed"
    },
    "tags": []
   },
   "outputs": [
    {
     "name": "stdout",
     "output_type": "stream",
     "text": [
      "Optimum number of components is  136\n"
     ]
    }
   ],
   "source": [
    "i=0\n",
    "c=0\n",
    "while y[i]<=0.90:\n",
    "    i=i+1\n",
    "    c=c+1\n",
    "print('Optimum number of components is ',c)"
   ]
  },
  {
   "cell_type": "code",
   "execution_count": 54,
   "id": "367edb2f",
   "metadata": {
    "execution": {
     "iopub.execute_input": "2023-01-24T06:04:42.954879Z",
     "iopub.status.busy": "2023-01-24T06:04:42.954397Z",
     "iopub.status.idle": "2023-01-24T06:04:51.073081Z",
     "shell.execute_reply": "2023-01-24T06:04:51.071123Z"
    },
    "papermill": {
     "duration": 8.14994,
     "end_time": "2023-01-24T06:04:51.078317",
     "exception": false,
     "start_time": "2023-01-24T06:04:42.928377",
     "status": "completed"
    },
    "tags": []
   },
   "outputs": [],
   "source": [
    "pca_o=PCA(n_components=136)\n",
    "x_tr_oo=pca_o.fit_transform(x_train_s)\n",
    "x_ts_oo=pca_o.transform(x_test_s)\n"
   ]
  },
  {
   "cell_type": "code",
   "execution_count": 55,
   "id": "ee4f7498",
   "metadata": {
    "execution": {
     "iopub.execute_input": "2023-01-24T06:04:51.198467Z",
     "iopub.status.busy": "2023-01-24T06:04:51.197985Z",
     "iopub.status.idle": "2023-01-24T06:04:51.204309Z",
     "shell.execute_reply": "2023-01-24T06:04:51.202986Z"
    },
    "papermill": {
     "duration": 0.065307,
     "end_time": "2023-01-24T06:04:51.206854",
     "exception": false,
     "start_time": "2023-01-24T06:04:51.141547",
     "status": "completed"
    },
    "tags": []
   },
   "outputs": [],
   "source": [
    "knn_o=KNeighborsClassifier()"
   ]
  },
  {
   "cell_type": "code",
   "execution_count": 56,
   "id": "cef1a93c",
   "metadata": {
    "execution": {
     "iopub.execute_input": "2023-01-24T06:04:51.256540Z",
     "iopub.status.busy": "2023-01-24T06:04:51.254939Z",
     "iopub.status.idle": "2023-01-24T06:05:06.960824Z",
     "shell.execute_reply": "2023-01-24T06:05:06.959388Z"
    },
    "papermill": {
     "duration": 15.734162,
     "end_time": "2023-01-24T06:05:06.964395",
     "exception": false,
     "start_time": "2023-01-24T06:04:51.230233",
     "status": "completed"
    },
    "tags": []
   },
   "outputs": [],
   "source": [
    "knn.fit(x_tr_oo,y_train)\n",
    "y_p_o=knn.predict(x_ts_oo)"
   ]
  },
  {
   "cell_type": "code",
   "execution_count": 57,
   "id": "77f0458f",
   "metadata": {
    "execution": {
     "iopub.execute_input": "2023-01-24T06:05:07.021688Z",
     "iopub.status.busy": "2023-01-24T06:05:07.021286Z",
     "iopub.status.idle": "2023-01-24T06:05:07.032197Z",
     "shell.execute_reply": "2023-01-24T06:05:07.030443Z"
    },
    "papermill": {
     "duration": 0.044713,
     "end_time": "2023-01-24T06:05:07.035172",
     "exception": false,
     "start_time": "2023-01-24T06:05:06.990459",
     "status": "completed"
    },
    "tags": []
   },
   "outputs": [
    {
     "data": {
      "text/plain": [
       "0.8704"
      ]
     },
     "execution_count": 57,
     "metadata": {},
     "output_type": "execute_result"
    }
   ],
   "source": [
    "accuracy_score(y_test,y_p_o)"
   ]
  },
  {
   "cell_type": "markdown",
   "id": "2ab7f4f2",
   "metadata": {
    "papermill": {
     "duration": 0.024796,
     "end_time": "2023-01-24T06:05:07.086165",
     "exception": false,
     "start_time": "2023-01-24T06:05:07.061369",
     "status": "completed"
    },
    "tags": []
   },
   "source": [
    "# Thank you"
   ]
  },
  {
   "cell_type": "code",
   "execution_count": null,
   "id": "1a3911a8",
   "metadata": {
    "papermill": {
     "duration": 0.023888,
     "end_time": "2023-01-24T06:05:07.135046",
     "exception": false,
     "start_time": "2023-01-24T06:05:07.111158",
     "status": "completed"
    },
    "tags": []
   },
   "outputs": [],
   "source": []
  },
  {
   "cell_type": "markdown",
   "id": "c6015b9b",
   "metadata": {
    "papermill": {
     "duration": 0.023894,
     "end_time": "2023-01-24T06:05:07.182996",
     "exception": false,
     "start_time": "2023-01-24T06:05:07.159102",
     "status": "completed"
    },
    "tags": []
   },
   "source": []
  }
 ],
 "metadata": {
  "kernelspec": {
   "display_name": "Python 3 (ipykernel)",
   "language": "python",
   "name": "python3"
  },
  "language_info": {
   "codemirror_mode": {
    "name": "ipython",
    "version": 3
   },
   "file_extension": ".py",
   "mimetype": "text/x-python",
   "name": "python",
   "nbconvert_exporter": "python",
   "pygments_lexer": "ipython3",
   "version": "3.10.12"
  },
  "papermill": {
   "default_parameters": {},
   "duration": 142.358056,
   "end_time": "2023-01-24T06:05:08.236127",
   "environment_variables": {},
   "exception": null,
   "input_path": "__notebook__.ipynb",
   "output_path": "__notebook__.ipynb",
   "parameters": {},
   "start_time": "2023-01-24T06:02:45.878071",
   "version": "2.3.4"
  }
 },
 "nbformat": 4,
 "nbformat_minor": 5
}
